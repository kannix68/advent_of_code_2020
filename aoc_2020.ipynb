{
 "cells": [
  {
   "cell_type": "markdown",
   "metadata": {},
   "source": [
    "# Advent of Code 2020\n",
    "\n",
    "This solution (Jupyter notebook; python3.7) by kannix68, @ 2020-12.  \\\n",
    "Using anaconda distro, conda v4.9.2. installation on MacOS v10.14.6 \"Mojave\"."
   ]
  },
  {
   "cell_type": "markdown",
   "metadata": {},
   "source": [
    "## Generic AoC code"
   ]
  },
  {
   "cell_type": "code",
   "execution_count": null,
   "metadata": {},
   "outputs": [],
   "source": [
    "import sys\n",
    "print(\"Python version:\", sys.version)\n",
    "print(\"Version info:\", sys.version_info)"
   ]
  },
  {
   "cell_type": "code",
   "execution_count": null,
   "metadata": {},
   "outputs": [],
   "source": [
    "DEBUG_FLAG = 0\n",
    "VERBOSE_LEVEL = 1"
   ]
  },
  {
   "cell_type": "code",
   "execution_count": null,
   "metadata": {},
   "outputs": [],
   "source": [
    "# Code functions\n",
    "\n",
    "def assert_msg(msg, assertion):\n",
    "  \"\"\"Assert boolean condition with message, ok=message printed, otherwise assertion-fail.\"\"\"\n",
    "  assert assertion, \"ERROR on assert: {}\".format(msg)\n",
    "  print(\"assert-OK: {}\".format(msg))\n",
    "\n",
    "def expect_msg(msg, expected, inputs):\n",
    "  assert_msg(msg.format(inputs, expected), expected == solve(inputs))\n",
    "\n",
    "def log_debug(*args,**kwargs):\n",
    "  \"\"\"Print message only if DEBUG_FLAG > 0.\"\"\"\n",
    "  if DEBUG_FLAG > 0:\n",
    "    print('D: ', end='')\n",
    "    print(*args,**kwargs)\n",
    "\n",
    "def log_info(*args,**kwargs):\n",
    "  \"\"\"Print message only if VERBOSE_LEVEL > 0.\"\"\"\n",
    "  if VERBOSE_LEVEL > 0:\n",
    "    print('I: ', end='')\n",
    "    print(*args,**kwargs)\n",
    "\n",
    "def log_error(*args,**kwargs):\n",
    "  \"\"\"Print error message.\"\"\"\n",
    "  print('E: ', end='')\n",
    "  print(*args,**kwargs)\n",
    "\n",
    "def read_file_to_str(filename):\n",
    "  \"\"\"Read a file's content into one string.\"\"\"\n",
    "  with open(filename, 'r') as inputfile:\n",
    "    data = inputfile.read()\n",
    "  return data\n",
    "\n",
    "def read_file_to_list(filename):\n",
    "  \"\"\"Read a file's content into a list of strings (per line), each ending whitespace stripped.\"\"\"\n",
    "  with open(filename, 'r') as inputfile:\n",
    "    lines_list = inputfile.readlines()\n",
    "  #lines_list = [line.rstrip('\\n') for line in lines_list] # via list comprehension\n",
    "  lines_list = list(map(lambda it: it.rstrip(), lines_list)) # via map\n",
    "  return lines_list\n",
    "\n",
    "def lrange(*args,**kwargs):\n",
    "  return list(range(*args,**kwargs))\n",
    "\n",
    "def lmap(*args,**kwargs):\n",
    "  return list(map(*args,**kwargs))"
   ]
  },
  {
   "cell_type": "markdown",
   "metadata": {},
   "source": [
    "## Problem domain code"
   ]
  },
  {
   "cell_type": "markdown",
   "metadata": {},
   "source": [
    "### Day 1: Report Repair"
   ]
  },
  {
   "cell_type": "code",
   "execution_count": null,
   "metadata": {},
   "outputs": [],
   "source": [
    "print(\"Day 1 a\")"
   ]
  },
  {
   "cell_type": "code",
   "execution_count": null,
   "metadata": {},
   "outputs": [],
   "source": [
    "THIS_YEAR = 2020 # \"Last christmas, I gave you my heart... this year...\" - Wham!"
   ]
  },
  {
   "cell_type": "code",
   "execution_count": null,
   "metadata": {},
   "outputs": [],
   "source": [
    "test_str = \"\"\"\n",
    "1721\n",
    "979\n",
    "366\n",
    "299\n",
    "675\n",
    "1456\"\"\".strip()\n",
    "tests = list(map(int, test_str.split(\"\\n\")))\n",
    "log_debug(tests)"
   ]
  },
  {
   "cell_type": "code",
   "execution_count": null,
   "metadata": {},
   "outputs": [],
   "source": [
    "import itertools\n",
    "#from operator import mul\n",
    "import numpy as np"
   ]
  },
  {
   "cell_type": "code",
   "execution_count": null,
   "metadata": {},
   "outputs": [],
   "source": [
    "def solve01a(l):\n",
    "  for v in itertools.combinations(l, 2):\n",
    "    v = np.array(v) # using numpy for elegance, array \"object\" methods .sum() and .prod()\n",
    "    #print(v)\n",
    "    if v.sum() == THIS_YEAR:\n",
    "      log_info(f\"found {v}\")\n",
    "      p = v.prod()\n",
    "      log_debug(f\"product={p}\")\n",
    "      break\n",
    "  return p"
   ]
  },
  {
   "cell_type": "code",
   "execution_count": null,
   "metadata": {},
   "outputs": [],
   "source": [
    "result = solve01a(tests)\n",
    "print(\"tests solution\", result)"
   ]
  },
  {
   "cell_type": "code",
   "execution_count": null,
   "metadata": {},
   "outputs": [],
   "source": [
    "ins = list(map(int, read_file_to_list('./in/day01.in')))\n",
    "#ins"
   ]
  },
  {
   "cell_type": "code",
   "execution_count": null,
   "metadata": {},
   "outputs": [],
   "source": [
    "result = solve01a(ins)\n",
    "print(\"Day 1 a solution:\", result)"
   ]
  },
  {
   "cell_type": "code",
   "execution_count": null,
   "metadata": {},
   "outputs": [],
   "source": [
    "def solve01b(l):\n",
    "  for v in itertools.combinations(l, 3):\n",
    "    v = np.array(v)\n",
    "    #print(v)\n",
    "    if v.sum() == THIS_YEAR:\n",
    "      log_info(f\"found {v}\")\n",
    "      p = v.prod() #np.prod(np.array(v))\n",
    "      log_debug(f\"product={p}\")\n",
    "      break\n",
    "  return p"
   ]
  },
  {
   "cell_type": "code",
   "execution_count": null,
   "metadata": {},
   "outputs": [],
   "source": [
    "print(\"Day 1 b\")\n",
    "print(\"test results:\", solve01b(tests))"
   ]
  },
  {
   "cell_type": "code",
   "execution_count": null,
   "metadata": {},
   "outputs": [],
   "source": [
    "print(\"Day 1 b solution:\", solve01b(ins))"
   ]
  },
  {
   "cell_type": "markdown",
   "metadata": {},
   "source": [
    "### Day 2: Password Philosophy"
   ]
  },
  {
   "cell_type": "code",
   "execution_count": null,
   "metadata": {},
   "outputs": [],
   "source": [
    "print(\"Day 2 a\")"
   ]
  },
  {
   "cell_type": "code",
   "execution_count": null,
   "metadata": {},
   "outputs": [],
   "source": [
    "test_str = \"\"\"\n",
    "1-3 a: abcde\n",
    "1-3 b: cdefg\n",
    "2-9 c: ccccccccc\n",
    "\"\"\".strip()\n",
    "tests = test_str.split(\"\\n\")\n",
    "#tests"
   ]
  },
  {
   "cell_type": "code",
   "execution_count": null,
   "metadata": {},
   "outputs": [],
   "source": [
    "def solve02a(l):\n",
    "  ct = 0\n",
    "  for line in l:\n",
    "    rules, pwd = line.split(': ')\n",
    "    nums, char = rules.split(' ')\n",
    "    min_num, max_num = map(int, nums.split('-'))\n",
    "    #print(min_num, max_num, char, pwd)\n",
    "    num_ocur = pwd.count(char)\n",
    "    if num_ocur >= min_num and num_ocur <= max_num:\n",
    "      #print(\"  pwd is valid\")\n",
    "      ct += 1\n",
    "    #else:\n",
    "    #  print(\"  pwd is INvalid\")\n",
    "  log_debug(f\"num of valid passwords={ct}\")\n",
    "  return ct"
   ]
  },
  {
   "cell_type": "code",
   "execution_count": null,
   "metadata": {},
   "outputs": [],
   "source": [
    "result = solve02a(tests)\n",
    "print(\"tests result:\", result)"
   ]
  },
  {
   "cell_type": "code",
   "execution_count": null,
   "metadata": {},
   "outputs": [],
   "source": [
    "ins = read_file_to_list('./in/day02.in')\n",
    "print(\"Day 2 a solution:\", solve02a(ins))"
   ]
  },
  {
   "cell_type": "code",
   "execution_count": null,
   "metadata": {},
   "outputs": [],
   "source": [
    "def solve02b(l):\n",
    "  ct = 0\n",
    "  for line in l:\n",
    "    rules, pwd = line.split(': ')\n",
    "    nums, char = rules.split(' ')\n",
    "    min_num, max_num = map(int, nums.split('-'))\n",
    "    #print(min_num, max_num, char, pwd)\n",
    "    num_ocur = pwd[min_num-1].count(char) + pwd[max_num-1].count(char)\n",
    "    if num_ocur == 1:\n",
    "      #print(\"  pwd is valid\")\n",
    "      ct += 1\n",
    "    #else:\n",
    "    #  print(\"  pwd is INvalid\")\n",
    "  log_debug(f\"num of valid passwords={ct}\")\n",
    "  return ct"
   ]
  },
  {
   "cell_type": "code",
   "execution_count": null,
   "metadata": {},
   "outputs": [],
   "source": [
    "print(\"Day 2 b\")\n",
    "print(\"assert day 2 b test conditions\")\n",
    "assert( 1 == solve02b([tests[0]]) )\n",
    "assert( 0 == solve02b([tests[1]]) )\n",
    "assert( 0 == solve02b([tests[2]]) )\n",
    "print(\"assertions were ok.\")"
   ]
  },
  {
   "cell_type": "code",
   "execution_count": null,
   "metadata": {},
   "outputs": [],
   "source": [
    "print(\"tests result:\", solve02b(tests))"
   ]
  },
  {
   "cell_type": "code",
   "execution_count": null,
   "metadata": {},
   "outputs": [],
   "source": [
    "print(\"Day 2 b solution:\", solve02b(ins))"
   ]
  },
  {
   "cell_type": "markdown",
   "metadata": {},
   "source": [
    "### Day 3: Toboggan Trajectory"
   ]
  },
  {
   "cell_type": "code",
   "execution_count": null,
   "metadata": {},
   "outputs": [],
   "source": [
    "print(\"Day 3 a\")"
   ]
  },
  {
   "cell_type": "code",
   "execution_count": null,
   "metadata": {},
   "outputs": [],
   "source": [
    "test_str = \"\"\"\n",
    "..##.......\n",
    "#...#...#..\n",
    ".#....#..#.\n",
    "..#.#...#.#\n",
    ".#...##..#.\n",
    "..#.##.....\n",
    ".#.#.#....#\n",
    ".#........#\n",
    "#.##...#...\n",
    "#...##....#\n",
    ".#..#...#.#\n",
    "\"\"\".strip()\n",
    "tests = test_str.split(\"\\n\")\n",
    "log_debug(tests)"
   ]
  },
  {
   "cell_type": "code",
   "execution_count": null,
   "metadata": {},
   "outputs": [],
   "source": [
    "def prepare_input(l):\n",
    "  outlist = []\n",
    "  for line in l:\n",
    "    outlist.append(list(map(lambda it: 1 if it == '#' else 0, list(line))))\n",
    "  return outlist\n",
    "tests = prepare_input(tests)\n",
    "log_debug(tests)"
   ]
  },
  {
   "cell_type": "code",
   "execution_count": null,
   "metadata": {},
   "outputs": [],
   "source": [
    "def solve03a(l2d):\n",
    "  num_rows = len(l2d)\n",
    "  num_cols = len(l2d[0])\n",
    "  log_info(f\"num rows={num_rows}, cols={num_cols}\")\n",
    "  posx, posy = [0, 0]\n",
    "  dx, dy = [3, 1]\n",
    "  ct = 0\n",
    "  tpath = ''\n",
    "  for iter in range(1, num_rows+2):\n",
    "    #print(f\"iter {iter}\")\n",
    "    if l2d[posy][posx%num_cols] == 1:\n",
    "      ct += 1\n",
    "      tpath += 'X'\n",
    "    else:\n",
    "      tpath += '0'\n",
    "    posx += dx\n",
    "    posy += dy\n",
    "    #print(f\"new pos={[posx, posy]}\")\n",
    "    if posy > num_rows-1:\n",
    "      log_debug(f\"break at iter#={iter}\")\n",
    "      break\n",
    "    else:\n",
    "      iter += 1\n",
    "  outstr = f\"encountered {ct} trees.\"\n",
    "  if DEBUG_FLAG > 0:\n",
    "    outstr += f\"Path={tpath}\"\n",
    "  log_info(outstr)\n",
    "  return ct"
   ]
  },
  {
   "cell_type": "code",
   "execution_count": null,
   "metadata": {},
   "outputs": [],
   "source": [
    "print(\"Day 3 a tests:\")\n",
    "print(solve03a(tests))"
   ]
  },
  {
   "cell_type": "code",
   "execution_count": null,
   "metadata": {},
   "outputs": [],
   "source": [
    "ins = prepare_input(read_file_to_list('./in/day03.in'))"
   ]
  },
  {
   "cell_type": "code",
   "execution_count": null,
   "metadata": {},
   "outputs": [],
   "source": [
    "result = solve03a(ins)\n",
    "print(\"Day 3 a solution:\", result)"
   ]
  },
  {
   "cell_type": "code",
   "execution_count": null,
   "metadata": {},
   "outputs": [],
   "source": [
    "def solve03b(l2d, vec):\n",
    "  num_rows = len(l2d)\n",
    "  num_cols = len(l2d[0])\n",
    "  log_debug(f\"num rows={num_rows}, cols={num_cols}, vector={vec}\")\n",
    "  posx, posy = [0, 0]\n",
    "  dx, dy = vec #reversed(vec)\n",
    "  ct = 0\n",
    "  for iter in range(0, num_rows+1):\n",
    "    #print(f\"i={iter} @{[posx, posy]} : {l2d[posy][posx%num_cols]}\")\n",
    "    if l2d[posy][posx%num_cols] == 1:\n",
    "      ct += 1\n",
    "    posx += dx\n",
    "    posy += dy\n",
    "    if posy > num_rows-1:\n",
    "      log_debug(f\"break at iter#={iter}\")\n",
    "      break\n",
    "    else:\n",
    "      iter += 1\n",
    "  log_debug(f\"encountered {ct} trees.\")\n",
    "  return ct"
   ]
  },
  {
   "cell_type": "code",
   "execution_count": null,
   "metadata": {},
   "outputs": [],
   "source": [
    "print(\"Day 3 b\")\n",
    "#print(\"number of trees encountered:\", solve3b(tests, [3, 1]))"
   ]
  },
  {
   "cell_type": "code",
   "execution_count": null,
   "metadata": {},
   "outputs": [],
   "source": [
    "print(\"assert day 3 b test conditions:\")\n",
    "assert( 2 == solve03b(tests, [1, 1]))\n",
    "assert( 7 == solve03b(tests, [3, 1]))\n",
    "assert( 3 == solve03b(tests, [5, 1]))\n",
    "assert( 4 == solve03b(tests, [7, 1]))\n",
    "assert( 2 == solve03b(tests, [1, 2]))\n",
    "print(\"assertions were ok.\")"
   ]
  },
  {
   "cell_type": "code",
   "execution_count": null,
   "metadata": {},
   "outputs": [],
   "source": [
    "p = solve03b(tests, [1, 1]) * solve03b(tests, [3, 1]) * solve03b(tests, [5, 1]) \\\n",
    "    * solve03b(tests, [7, 1]) * solve03b(tests, [1, 2])\n",
    "print(\"day 3 b test result (product):\", p)"
   ]
  },
  {
   "cell_type": "code",
   "execution_count": null,
   "metadata": {},
   "outputs": [],
   "source": [
    "p = solve03b(ins, [1, 1]) * solve03b(ins, [3, 1]) * solve03b(ins, [5, 1]) \\\n",
    "      * solve03b(ins, [7, 1]) * solve03b(ins, [1, 2])\n",
    "print(\"day 3 b solution (product):\", p)"
   ]
  },
  {
   "cell_type": "markdown",
   "metadata": {},
   "source": [
    "### Day 4: Passport Processing"
   ]
  },
  {
   "cell_type": "code",
   "execution_count": null,
   "metadata": {},
   "outputs": [],
   "source": [
    "DEBUG_FLAG = 0"
   ]
  },
  {
   "cell_type": "code",
   "execution_count": null,
   "metadata": {},
   "outputs": [],
   "source": [
    "fields_mandat = {'byr', 'iyr', 'eyr', 'hgt', 'hcl', 'ecl', 'pid'}\n",
    "fields_opt = {'cid'}"
   ]
  },
  {
   "cell_type": "code",
   "execution_count": null,
   "metadata": {},
   "outputs": [],
   "source": [
    "test_str = \"\"\"\n",
    "ecl:gry pid:860033327 eyr:2020 hcl:#fffffd\n",
    "byr:1937 iyr:2017 cid:147 hgt:183cm\n",
    "\n",
    "iyr:2013 ecl:amb cid:350 eyr:2023 pid:028048884\n",
    "hcl:#cfa07d byr:1929\n",
    "\n",
    "hcl:#ae17e1 iyr:2013\n",
    "eyr:2024\n",
    "ecl:brn pid:760753108 byr:1931\n",
    "hgt:179cm\n",
    "\n",
    "hcl:#cfa07d eyr:2025 pid:166559648\n",
    "iyr:2011 ecl:brn hgt:59in\n",
    "\"\"\".strip()\n",
    "tests = test_str.split(\"\\n\\n\")\n",
    "log_debug(tests)"
   ]
  },
  {
   "cell_type": "code",
   "execution_count": null,
   "metadata": {},
   "outputs": [],
   "source": [
    "import re"
   ]
  },
  {
   "cell_type": "code",
   "execution_count": null,
   "metadata": {},
   "outputs": [],
   "source": [
    "def passport_valid(passport):\n",
    "  entries = re.split(r'\\s+', passport)\n",
    "  log_debug(entries)\n",
    "  fields = []\n",
    "  for entry in entries:\n",
    "    field = entry.split(':')[0]\n",
    "    fields.append(field)\n",
    "  #log_debug(sorted(fields))\n",
    "  b = fields_mandat.issubset(fields)\n",
    "  log_debug(\"valid?:\", b)\n",
    "  return b"
   ]
  },
  {
   "cell_type": "code",
   "execution_count": null,
   "metadata": {},
   "outputs": [],
   "source": [
    "def solve04a(passports):\n",
    "  ct = 0\n",
    "  for passport in passports:\n",
    "    if passport_valid(passport):\n",
    "      ct +=1\n",
    "  log_debug(\"valid-count:\", ct)\n",
    "  return ct"
   ]
  },
  {
   "cell_type": "code",
   "execution_count": null,
   "metadata": {},
   "outputs": [],
   "source": [
    "print(\"tests valid-count:\", solve04a(tests))"
   ]
  },
  {
   "cell_type": "code",
   "execution_count": null,
   "metadata": {},
   "outputs": [],
   "source": [
    "ins = read_file_to_str('./in/day04.in').split(\"\\n\\n\")\n",
    "print(\"Day 4 a solution: valid-count:\", solve04a(ins))"
   ]
  },
  {
   "cell_type": "code",
   "execution_count": null,
   "metadata": {},
   "outputs": [],
   "source": [
    "def passport_valid2(passport):\n",
    "  entries = re.split(r'\\s+', passport)\n",
    "  log_debug(entries)\n",
    "  fields = []\n",
    "  values = []\n",
    "  for entry in entries:\n",
    "    field, val = entry.split(':')\n",
    "    fields.append(field)\n",
    "    values.append(val)\n",
    "  #log_debug(sorted(fields))\n",
    "  if not fields_mandat.issubset(fields):\n",
    "    log_debug(\"invalid: mandatory fields missing\")\n",
    "    return False \n",
    "  for idx, field in enumerate(fields):\n",
    "    val = values[idx]\n",
    "    if field == 'byr':\n",
    "      # byr (Birth Year) - four digits; at least 1920 and at most 2002.\n",
    "      ival = int(val)\n",
    "      if not (ival >= 1920 and ival <= 2002):\n",
    "        log_debug(f\"invalid: byr value {val}\")\n",
    "        return False\n",
    "    elif field == 'iyr':\n",
    "      # iyr (Issue Year) - four digits; at least 2010 and at most 2020.\n",
    "      ival = int(val)\n",
    "      if not (ival >= 2010 and ival <= THIS_YEAR):\n",
    "        log_debug(f\"invalid: iyr value {val}\")\n",
    "        return False\n",
    "    elif field == 'eyr':\n",
    "      # eyr (Expiration Year) - four digits; at least 2020 and at most 2030\n",
    "      ival = int(val)\n",
    "      if not (ival >= THIS_YEAR and ival <= 2030):\n",
    "        log_debug(f\"invalid: eyr value {val}\")\n",
    "        return False\n",
    "    elif field == 'hgt':\n",
    "      # hgt (Height) - a number followed by either cm or in:\n",
    "      # - If cm, the number must be at least 150 and at most 193.\n",
    "      # - If in, the number must be at least 59 and at most 76.\n",
    "      # py-regex: ^(\\d+)(?=cm|in)(cm|in)$\n",
    "      if not re.match(r'^\\d+(cm|in)$', val):\n",
    "        log_debug(f\"invalid: hgt val={val}, form.\")\n",
    "        return False\n",
    "      numstr, unit = re.split(r'(?=cm|in)', val)\n",
    "      num = int(numstr)\n",
    "      if unit == 'cm':\n",
    "        if not (num >= 150 and num <= 193):\n",
    "          log_debug(f\"invalid: hgt val={val} num={num}\")\n",
    "          return False\n",
    "      elif unit == 'in':\n",
    "        if not (num >= 59 and num <= 76):\n",
    "          log_debug(f\"invalid: hgt val={val} num={num}\")\n",
    "          return False\n",
    "      else:\n",
    "        log_debug(f\"invalid: hgt val={val} unit={unit}\")\n",
    "        return False\n",
    "    elif field == 'hcl':\n",
    "      # hcl (Hair Color) - a # followed by exactly six characters 0-9 or a-f.\n",
    "      if not re.match(r'^#[0-9a-f]{6}$', val):\n",
    "        log_debug(f\"invalid: hcl value {val}\")\n",
    "        return False\n",
    "    elif field == 'ecl':\n",
    "      # ecl (Eye Color) - exactly one of: amb blu brn gry grn hzl oth.\n",
    "      if not val in ['amb', 'blu', 'brn', 'gry', 'grn', 'hzl', 'oth']:\n",
    "        log_debug(f\"invalid: ecl value {val}\")\n",
    "        return False\n",
    "    elif field == 'pid':\n",
    "      # pid (Passport ID) - a nine-digit number, including leading zeroes.\n",
    "      if not re.match(r'^[0-9]{9}$', val):\n",
    "        log_debug(f\"invalid: pid value {val}\")\n",
    "        return False\n",
    "  log_debug(\"valid!\")\n",
    "  return True"
   ]
  },
  {
   "cell_type": "code",
   "execution_count": null,
   "metadata": {},
   "outputs": [],
   "source": [
    "tests_invalid = \"\"\"\n",
    "eyr:1972 cid:100\n",
    "hcl:#18171d ecl:amb hgt:170 pid:186cm iyr:2018 byr:1926\n",
    "\n",
    "iyr:2019\n",
    "hcl:#602927 eyr:1967 hgt:170cm\n",
    "ecl:grn pid:012533040 byr:1946\n",
    "\n",
    "hcl:dab227 iyr:2012\n",
    "ecl:brn hgt:182cm pid:021572410 eyr:2020 byr:1992 cid:277\n",
    "\n",
    "hgt:59cm ecl:zzz\n",
    "eyr:2038 hcl:74454a iyr:2023\n",
    "pid:3556412378 byr:2\n",
    "\"\"\".strip().split(\"\\n\\n\")"
   ]
  },
  {
   "cell_type": "code",
   "execution_count": null,
   "metadata": {},
   "outputs": [],
   "source": [
    "print(\"tests, all invalid:\")\n",
    "for passport in tests_invalid:\n",
    "  print(passport.replace(\"\\n\", \" \"))\n",
    "  print(\"valid?:\", passport_valid2(passport))\n",
    "  print()"
   ]
  },
  {
   "cell_type": "code",
   "execution_count": null,
   "metadata": {},
   "outputs": [],
   "source": [
    "tests_valid = \"\"\"\n",
    "pid:087499704 hgt:74in ecl:grn iyr:2012 eyr:2030 byr:1980\n",
    "hcl:#623a2f\n",
    "\n",
    "eyr:2029 ecl:blu cid:129 byr:1989\n",
    "iyr:2014 pid:896056539 hcl:#a97842 hgt:165cm\n",
    "\n",
    "hcl:#888785\n",
    "hgt:164cm byr:2001 iyr:2015 cid:88\n",
    "pid:545766238 ecl:hzl\n",
    "eyr:2022\n",
    "\n",
    "iyr:2010 hgt:158cm hcl:#b6652a ecl:blu byr:1944 eyr:2021 pid:093154719\n",
    "\"\"\".strip().split(\"\\n\\n\")"
   ]
  },
  {
   "cell_type": "code",
   "execution_count": null,
   "metadata": {},
   "outputs": [],
   "source": [
    "print(\"tests, all valid:\")\n",
    "for passport in tests_valid:\n",
    "  print(passport.replace(\"\\n\", \" \"))\n",
    "  print(\"valid?:\", passport_valid2(passport))\n",
    "  print()"
   ]
  },
  {
   "cell_type": "code",
   "execution_count": null,
   "metadata": {},
   "outputs": [],
   "source": [
    "def solve04b(passports):\n",
    "  ct = 0\n",
    "  for passport in passports:\n",
    "    log_debug(passport)\n",
    "    if passport_valid2(passport):\n",
    "      ct +=1\n",
    "  log_debug(\"valid-count:\", ct)\n",
    "  return ct"
   ]
  },
  {
   "cell_type": "code",
   "execution_count": null,
   "metadata": {},
   "outputs": [],
   "source": [
    "assert( 0 == solve04b(tests_invalid) )"
   ]
  },
  {
   "cell_type": "code",
   "execution_count": null,
   "metadata": {},
   "outputs": [],
   "source": [
    "assert( 4 == solve04b(tests_valid) )"
   ]
  },
  {
   "cell_type": "code",
   "execution_count": null,
   "metadata": {},
   "outputs": [],
   "source": [
    "result = solve04b(ins)\n",
    "print(\"Day 4 b result:\", result)"
   ]
  },
  {
   "cell_type": "markdown",
   "metadata": {},
   "source": [
    "### Day 5: Binary Boarding"
   ]
  },
  {
   "cell_type": "code",
   "execution_count": null,
   "metadata": {},
   "outputs": [],
   "source": [
    "import functools\n",
    "import operator\n",
    "\n",
    "# see: [python - How to make a flat list out of list of lists? - Stack Overflow](https://stackoverflow.com/questions/952914/how-to-make-a-flat-list-out-of-list-of-lists)\n",
    "def flatten_list(l):\n",
    "  \"\"\"Flatten a list.\"\"\"\n",
    "  return functools.reduce(operator.iconcat, l, [])\n",
    "\n",
    "def get_seat_id(s):\n",
    "  rows = lrange(0, 128)\n",
    "  cols = lrange(0, 8)\n",
    "  #log_debug(cols)\n",
    "  for c in s:\n",
    "    if c == 'F':\n",
    "      rows = rows[:len(rows)//2]\n",
    "    elif c == 'B':\n",
    "      rows = rows[len(rows)//2:]\n",
    "    elif c == 'L':\n",
    "      cols = cols[:len(cols)//2]\n",
    "    elif c == 'R':\n",
    "      cols = cols[len(cols)//2:]\n",
    "  result_list = flatten_list([rows, cols])\n",
    "  log_debug(result_list)\n",
    "  return result_list[0]*8 + result_list[1]"
   ]
  },
  {
   "cell_type": "code",
   "execution_count": null,
   "metadata": {},
   "outputs": [],
   "source": [
    "boardingpass = 'FBFBBFFRLR'\n",
    "get_seat_id(boardingpass)"
   ]
  },
  {
   "cell_type": "code",
   "execution_count": null,
   "metadata": {},
   "outputs": [],
   "source": [
    "# Given tests:\n",
    "assert(357 == get_seat_id('FBFBBFFRLR'))"
   ]
  },
  {
   "cell_type": "code",
   "execution_count": null,
   "metadata": {},
   "outputs": [],
   "source": [
    "assert(567 == get_seat_id('BFFFBBFRRR'))\n",
    "assert(119 == get_seat_id('FFFBBBFRRR'))\n",
    "assert(820 == get_seat_id('BBFFBBFRLL'))"
   ]
  },
  {
   "cell_type": "code",
   "execution_count": null,
   "metadata": {},
   "outputs": [],
   "source": [
    "ins = read_file_to_list('./in/day05.in')\n",
    "print( \"Day 5 a solution:\", max(map(get_seat_id, ins)) )"
   ]
  },
  {
   "cell_type": "code",
   "execution_count": null,
   "metadata": {},
   "outputs": [],
   "source": [
    "print(\"number of boarding passes given:\", (len(ins)))\n",
    "#print(\"number of used rows in plane:\", (len(ins)+1)/8.0)\n",
    "\n",
    "min_seat_id = 0*8 + 0  # from min row and min column/seat\n",
    "max_seat_id = 127*8 + 7  # from max row and max column/seat\n",
    "print(\"seat_id min/max\", [min_seat_id, max_seat_id])"
   ]
  },
  {
   "cell_type": "code",
   "execution_count": null,
   "metadata": {},
   "outputs": [],
   "source": [
    "seat_ids = lrange(min_seat_id, max_seat_id+1)\n",
    "for boardingpass in ins: # remove used/given seat_id\n",
    "  seat_ids.remove(get_seat_id(boardingpass))\n",
    "log_debug(\"ids remain unseen:\")\n",
    "log_debug(seat_ids)\n",
    "for seat_id in seat_ids:\n",
    "  if not( (seat_id-1) in seat_ids and (seat_id>min_seat_id) ) \\\n",
    "    and not( (seat_id+1) in seat_ids and (seat_id<max_seat_id) ):\n",
    "    print(\"(Day 5 b solution) found id:\", seat_id)"
   ]
  },
  {
   "cell_type": "markdown",
   "metadata": {},
   "source": [
    "### Day 6: Custom Customs"
   ]
  },
  {
   "cell_type": "code",
   "execution_count": null,
   "metadata": {},
   "outputs": [],
   "source": [
    "DEBUG_FLAG = 0"
   ]
  },
  {
   "cell_type": "code",
   "execution_count": null,
   "metadata": {},
   "outputs": [],
   "source": [
    "test_str = \"\"\"\n",
    "abcx\n",
    "abcy\n",
    "abcz\n",
    "\"\"\".strip()\n",
    "test = test_str.split(\"\\n\")\n",
    "log_debug(test)"
   ]
  },
  {
   "cell_type": "code",
   "execution_count": null,
   "metadata": {},
   "outputs": [],
   "source": [
    "from collections import defaultdict"
   ]
  },
  {
   "cell_type": "code",
   "execution_count": null,
   "metadata": {},
   "outputs": [],
   "source": [
    "def get_group_answers(answers_in):\n",
    "  answers = defaultdict(int)\n",
    "  for tanswers in answers_in:\n",
    "    for tanswer in tanswers:\n",
    "      answers[tanswer] += 1\n",
    "  log_debug(answers)\n",
    "  log_debug(len(answers.keys()), answers.keys())\n",
    "  return answers"
   ]
  },
  {
   "cell_type": "code",
   "execution_count": null,
   "metadata": {},
   "outputs": [],
   "source": [
    "print(\"testing...\", get_group_answers(test))"
   ]
  },
  {
   "cell_type": "code",
   "execution_count": null,
   "metadata": {},
   "outputs": [],
   "source": [
    "assert( 6 == len(get_group_answers(test).keys()) )"
   ]
  },
  {
   "cell_type": "code",
   "execution_count": null,
   "metadata": {},
   "outputs": [],
   "source": [
    "test_str = \"\"\"\n",
    "abc\n",
    "\n",
    "a\n",
    "b\n",
    "c\n",
    "\n",
    "ab\n",
    "ac\n",
    "\n",
    "a\n",
    "a\n",
    "a\n",
    "a\n",
    "\n",
    "b\n",
    "\"\"\".strip()\n",
    "tests = test_str.split(\"\\n\\n\")\n",
    "log_debug(tests)"
   ]
  },
  {
   "cell_type": "code",
   "execution_count": null,
   "metadata": {},
   "outputs": [],
   "source": [
    "def solve06a(groupanswers):\n",
    "  i = 0\n",
    "  for groupanswer in groupanswers:\n",
    "    result = get_group_answers(groupanswer.split(\"\\n\")).keys()\n",
    "    log_debug(f\"distinctanswers={result} for {groupanswer}\")\n",
    "    i += len(result)\n",
    "  log_debug(f\"answerssum={i}\")\n",
    "  return i"
   ]
  },
  {
   "cell_type": "code",
   "execution_count": null,
   "metadata": {},
   "outputs": [],
   "source": [
    "assert( 11 == solve06a(tests) )\n",
    "print(\"test assertion ok.\")"
   ]
  },
  {
   "cell_type": "code",
   "execution_count": null,
   "metadata": {},
   "outputs": [],
   "source": [
    "ins = read_file_to_str('./in/day06.in').split(\"\\n\\n\")\n",
    "print(\"Day 6 a solution: groupanwers-sum:\", solve06a(ins))"
   ]
  },
  {
   "cell_type": "code",
   "execution_count": null,
   "metadata": {},
   "outputs": [],
   "source": [
    "print(\"Day 6 b\")"
   ]
  },
  {
   "cell_type": "code",
   "execution_count": null,
   "metadata": {},
   "outputs": [],
   "source": [
    "def get_group_answers2(answers_in):\n",
    "  answers = defaultdict(int)\n",
    "  num_persons = len(answers_in)\n",
    "  for tanswers in answers_in:\n",
    "    for tanswer in tanswers:\n",
    "      answers[tanswer] += 1\n",
    "  log_debug(answers)\n",
    "  log_debug(len(answers.keys()), answers.keys())\n",
    "  ct = 0\n",
    "  #for idx, (key, val) in enumerate(d.items()):\n",
    "  for key, val in answers.items():\n",
    "    if val == num_persons:\n",
    "      ct += 1\n",
    "  return ct\n",
    "\n",
    "def solve06b(groupanswers):\n",
    "  i = 0\n",
    "  for groupanswer in groupanswers:\n",
    "    result = get_group_answers2(groupanswer.split(\"\\n\"))\n",
    "    log_debug(f\"all-answers={result} for {groupanswer}\")\n",
    "    i += result\n",
    "  log_info(f\"all-answers-sum={i}\")\n",
    "  return i"
   ]
  },
  {
   "cell_type": "code",
   "execution_count": null,
   "metadata": {},
   "outputs": [],
   "source": [
    "assert( 6 == solve06b(tests) )\n",
    "print(\"test assertion ok.\")"
   ]
  },
  {
   "cell_type": "code",
   "execution_count": null,
   "metadata": {},
   "outputs": [],
   "source": [
    "print(\"Day 6 b solution: groupanwers-sum:\", solve06b(ins))"
   ]
  },
  {
   "cell_type": "markdown",
   "metadata": {},
   "source": [
    "### Day 7: Handy Haversacks"
   ]
  },
  {
   "cell_type": "code",
   "execution_count": null,
   "metadata": {},
   "outputs": [],
   "source": [
    "DEBUG_FLAG = 0"
   ]
  },
  {
   "cell_type": "code",
   "execution_count": null,
   "metadata": {},
   "outputs": [],
   "source": [
    "import networkx as nx"
   ]
  },
  {
   "cell_type": "code",
   "execution_count": null,
   "metadata": {},
   "outputs": [],
   "source": [
    "test_str = \"\"\"\n",
    "light red bags contain 1 bright white bag, 2 muted yellow bags.\n",
    "dark orange bags contain 3 bright white bags, 4 muted yellow bags.\n",
    "bright white bags contain 1 shiny gold bag.\n",
    "muted yellow bags contain 2 shiny gold bags, 9 faded blue bags.\n",
    "shiny gold bags contain 1 dark olive bag, 2 vibrant plum bags.\n",
    "dark olive bags contain 3 faded blue bags, 4 dotted black bags.\n",
    "vibrant plum bags contain 5 faded blue bags, 6 dotted black bags.\n",
    "faded blue bags contain no other bags.\n",
    "dotted black bags contain no other bags.\n",
    "\"\"\".strip()\n",
    "tests = test_str.split(\"\\n\")\n",
    "log_debug(test)"
   ]
  },
  {
   "cell_type": "code",
   "execution_count": null,
   "metadata": {},
   "outputs": [],
   "source": [
    "def get_bag_graph(l):\n",
    "  graph = nx.DiGraph()\n",
    "  for line in l:\n",
    "    try:\n",
    "      src, trg = line.split(\" bags contain \")\n",
    "    except ValueError:\n",
    "      log_error(f\"parse error, input=>{line}<\")\n",
    "    bags_contained = trg.replace(\".\", \"\").split(\", \")\n",
    "    if not (len(bags_contained) == 1 and bags_contained[0].startswith(\"no other\")):\n",
    "      graph.add_node(src)\n",
    "      for idx, bag_in in enumerate(bags_contained):\n",
    "        rxm = re.match(r\"^(\\d+)\\s+(.*?)\\s+bag\", bag_in)\n",
    "        res = [int(rxm.group(1)), rxm.group(2)]\n",
    "        #log_debug(\"src:\", src, \"; trg:\", res)\n",
    "        bags_contained[idx] = res\n",
    "        graph.add_node(res[1])\n",
    "        #log_debug(f\"add_edge {src} => {res[0]} {res[1]}\")\n",
    "        graph.add_edge(src, res[1], weight=res[0])\n",
    "    else:\n",
    "      graph.add_edge(src, \"END\", weight=0)\n",
    "    #print(src, bags_contained)\n",
    "  log_info( \"graph # of nodes:\", len(graph.nodes()) )\n",
    "  log_info( \"graph # of edges:\", len(graph.edges()) )\n",
    "  return graph"
   ]
  },
  {
   "cell_type": "code",
   "execution_count": null,
   "metadata": {},
   "outputs": [],
   "source": [
    "graph = get_bag_graph(tests)\n",
    "for e in graph.edges():\n",
    "  log_debug(e, nx.get_edge_attributes(graph, 'weight')[e])"
   ]
  },
  {
   "cell_type": "code",
   "execution_count": null,
   "metadata": {},
   "outputs": [],
   "source": [
    "def get_paths_to(graph, trg):\n",
    "  paths = []\n",
    "  for src in graph.nodes():\n",
    "    #log_debug(\"src:\", src)\n",
    "    for p in nx.all_simple_paths(graph, src, trg):\n",
    "      paths.append(p)\n",
    "  return paths"
   ]
  },
  {
   "cell_type": "code",
   "execution_count": null,
   "metadata": {},
   "outputs": [],
   "source": [
    "def solve07a(l, trg):\n",
    "  graph = get_bag_graph(l)\n",
    "  sources = lmap(lambda it: it[0], get_paths_to(graph, trg))\n",
    "  num_sources = len(set(sources))\n",
    "  return num_sources"
   ]
  },
  {
   "cell_type": "code",
   "execution_count": null,
   "metadata": {},
   "outputs": [],
   "source": [
    "trg = 'shiny gold'\n",
    "assert( 4 == solve07a(tests, trg) )"
   ]
  },
  {
   "cell_type": "code",
   "execution_count": null,
   "metadata": {},
   "outputs": [],
   "source": [
    "ins = read_file_to_str('./in/day07.in').strip().split(\"\\n\")\n",
    "print(\"Day 7 a solution: num-distinct-src-colors\", solve07a(ins, 'shiny gold'))"
   ]
  },
  {
   "cell_type": "code",
   "execution_count": null,
   "metadata": {},
   "outputs": [],
   "source": [
    "print(\"Day 7 b\")"
   ]
  },
  {
   "cell_type": "code",
   "execution_count": null,
   "metadata": {},
   "outputs": [],
   "source": [
    "edge_weights = nx.get_edge_attributes(graph, 'weight')\n",
    "\n",
    "#for p in nx.all_simple_edge_paths(graph, 'shiny gold', \"END\"): # not available\n",
    "seen_subpaths = []\n",
    "for p in nx.all_simple_paths(graph, 'shiny gold', \"END\"):\n",
    "  log_debug(p)\n",
    "  for snode_idx in range(len(p)-1):\n",
    "    tup = tuple([p[snode_idx], p[snode_idx+1]])\n",
    "    subpath = tuple(p[0:snode_idx+2])\n",
    "    log_debug(\"subpath:\", subpath)\n",
    "    if not subpath in seen_subpaths:\n",
    "      seen_subpaths.append(subpath)\n",
    "      log_debug(\"    new subpath\")\n",
    "    else:\n",
    "      log_debug(\"    already SEEN subpath\")\n",
    "    log_debug(f\"  path-edge#{snode_idx}: {tup} {edge_weights[tup]}\")\n",
    "  log_debug(seen_subpaths)\n",
    "  "
   ]
  },
  {
   "cell_type": "code",
   "execution_count": null,
   "metadata": {},
   "outputs": [],
   "source": [
    "# see: [python - Getting subgraph of nodes between two nodes? - Stack Overflow](https://stackoverflow.com/questions/32531117/getting-subgraph-of-nodes-between-two-nodes)\n",
    "def subgraph_between(graph, start_node, end_node):\n",
    "  paths_between_generator = nx.all_simple_paths(graph, source=start_node,target=end_node)\n",
    "  nodes_between_set = {node for path in paths_between_generator for node in path}\n",
    "  return( graph.subgraph(nodes_between_set) )"
   ]
  },
  {
   "cell_type": "code",
   "execution_count": null,
   "metadata": {},
   "outputs": [],
   "source": [
    "subgraph = subgraph_between(graph, 'shiny gold', 'END')\n",
    "for p in subgraph.edges:\n",
    "  log_debug(p)\n",
    "log_info(\"sub-paths for shiny gold:\")\n",
    "for p in nx.all_simple_paths(subgraph, 'shiny gold', \"END\"):\n",
    "  log_info(p)"
   ]
  },
  {
   "cell_type": "code",
   "execution_count": null,
   "metadata": {},
   "outputs": [],
   "source": [
    "edge_weights = nx.get_edge_attributes(graph, 'weight')\n",
    "seen_subpaths = []\n",
    "for p in nx.all_simple_paths(graph, 'shiny gold', \"END\"):\n",
    "  log_debug(p)\n",
    "  for start_idx in reversed(range(len(p)-2)):\n",
    "    seen = False\n",
    "    subpath = tuple(p[0:start_idx+2])\n",
    "    if not subpath in seen_subpaths:\n",
    "      seen_subpaths.append(subpath)\n",
    "    else:\n",
    "      seen = True\n",
    "    tup = tuple([p[start_idx], p[start_idx+1]])\n",
    "    w = edge_weights[tup]\n",
    "    log_debug(f\"  subedge={tup}, weight={w}; subpath={subpath}, seen={seen}\")\n"
   ]
  },
  {
   "cell_type": "code",
   "execution_count": null,
   "metadata": {},
   "outputs": [],
   "source": [
    "# Personal solution to day 7 a UNFINISHED.\n",
    "clr = 'shiny gold'\n",
    "clr_edges = filter(lambda it: it[0]==clr, list(graph.edges))\n",
    "for edge in clr_edges:\n",
    "  log_debug(edge, edge_weights[edge])"
   ]
  },
  {
   "cell_type": "code",
   "execution_count": null,
   "metadata": {},
   "outputs": [],
   "source": [
    "# \"Inspiration\" soltion, copied/stolen from user el-guish's solution in:\n",
    "# [- 2020 Day 07 Solutions - : adventofcode](https://www.reddit.com/r/adventofcode/comments/k8a31f/2020_day_07_solutions/)\n",
    "# Using recursion.\n",
    "\n",
    "rules = open('in/day07.in').readlines()\n",
    "\n",
    "def parse_rule(r):\n",
    "  parent, contents = r[:-2].split(' bags contain ')\n",
    "  childs =  [parse_child_bag(c) for c in contents.split(',') if c != 'no other bags' and c != 'no other bag']\n",
    "  return (parent, childs)\n",
    "\n",
    "def parse_child_bag(child_st):\n",
    "  cparts = child_st.split()\n",
    "  qty = int(cparts[0])\n",
    "  color = ' '.join(cparts[1:-1])\n",
    "  return (color, qty)\n",
    "\n",
    "def required_contents(bag_color):\n",
    "  return sum(q + q * required_contents(color) for color, q in contains[bag_color] )\n",
    "\n",
    "contains = dict(parse_rule(r) for r in test_str.split(\"\\n\"))\n",
    "log_debug(\"test rules (parsed):\", contains)\n",
    "print(\"tests result\", required_contents('shiny gold'))\n",
    "\n",
    "contains = dict(parse_rule(r) for r in rules)\n",
    "print(\"Day 7 b solution\", required_contents('shiny gold'))"
   ]
  },
  {
   "cell_type": "code",
   "execution_count": null,
   "metadata": {},
   "outputs": [],
   "source": []
  }
 ],
 "metadata": {
  "kernelspec": {
   "display_name": "Python 3",
   "language": "python",
   "name": "python3"
  },
  "language_info": {
   "codemirror_mode": {
    "name": "ipython",
    "version": 3
   },
   "file_extension": ".py",
   "mimetype": "text/x-python",
   "name": "python",
   "nbconvert_exporter": "python",
   "pygments_lexer": "ipython3",
   "version": "3.7.9"
  }
 },
 "nbformat": 4,
 "nbformat_minor": 4
}
