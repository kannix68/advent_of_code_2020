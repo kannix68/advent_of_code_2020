{
 "cells": [
  {
   "cell_type": "code",
   "execution_count": null,
   "metadata": {},
   "outputs": [],
   "source": [
    "# Advent of Code 2020\n",
    "\n",
    "## This solution (Jupyter notebook; python3.7) by kannix68, @ 2020-12.\n",
    "## Using anaconda distro, conda v4.9.2. installation on MacOS v10.14.6 \"Mojave\"."
   ]
  },
  {
   "cell_type": "code",
   "execution_count": null,
   "metadata": {},
   "outputs": [],
   "source": [
    "import sys\n",
    "print(\"Python version:\", sys.version)\n",
    "print(\"Version info:\", sys.version_info)"
   ]
  },
  {
   "cell_type": "code",
   "execution_count": null,
   "metadata": {},
   "outputs": [],
   "source": [
    "DEBUG_FLAG = 0"
   ]
  },
  {
   "cell_type": "code",
   "execution_count": null,
   "metadata": {},
   "outputs": [],
   "source": [
    "# Generic AoC code\n",
    "\n",
    "def assert_msg(msg, assertion):\n",
    "  assert assertion, \"ERROR on assert: {}\".format(msg)\n",
    "  print(\"assert-OK: {}\".format(msg))\n",
    "\n",
    "def expect_msg(msg, expected, inputs):\n",
    "  assert_msg(msg.format(inputs, expected), expected == solve(inputs))\n",
    "\n",
    "def log_debug(*args,**kwargs):\n",
    "  if DEBUG_FLAG > 0:\n",
    "    print(*args,**kwargs)\n",
    "\n",
    "def read_file_to_str(filename):\n",
    "  \"\"\"Read a file into one string.\"\"\"\n",
    "  with open(filename, 'r') as inputfile:\n",
    "    data = inputfile.read()\n",
    "  return data\n",
    "\n",
    "def read_file_to_list(filename):\n",
    "  \"\"\"Read a file into a list of strings (per line), each ending whitespace stripped.\"\"\"\n",
    "  with open(filename, 'r') as inputfile:\n",
    "    lines_list = inputfile.readlines()\n",
    "  #lines_list = [line.rstrip('\\n') for line in lines_list] # via list comprehension\n",
    "  lines_list = list(map(lambda it: it.rstrip(), lines_list)) # via map\n",
    "  return lines_list\n"
   ]
  },
  {
   "cell_type": "code",
   "execution_count": null,
   "metadata": {},
   "outputs": [],
   "source": [
    "# Problem domain code"
   ]
  },
  {
   "cell_type": "code",
   "execution_count": null,
   "metadata": {},
   "outputs": [],
   "source": [
    "# Day 1\n",
    "print(\"Day 1 a\")"
   ]
  },
  {
   "cell_type": "code",
   "execution_count": null,
   "metadata": {},
   "outputs": [],
   "source": [
    "THIS_YEAR = 2020 # \"Last christmas, I gave you my heart... this year...\" - Wham!"
   ]
  },
  {
   "cell_type": "code",
   "execution_count": null,
   "metadata": {},
   "outputs": [],
   "source": [
    "test_str = \"\"\"\n",
    "1721\n",
    "979\n",
    "366\n",
    "299\n",
    "675\n",
    "1456\"\"\".strip()\n",
    "tests = list(map(int, test_str.split(\"\\n\")))\n",
    "log_debug(tests)"
   ]
  },
  {
   "cell_type": "code",
   "execution_count": null,
   "metadata": {},
   "outputs": [],
   "source": [
    "import itertools\n",
    "#from operator import mul\n",
    "import numpy as np"
   ]
  },
  {
   "cell_type": "code",
   "execution_count": null,
   "metadata": {},
   "outputs": [],
   "source": [
    "def solve01a(l):\n",
    "  for v in itertools.combinations(l, 2):\n",
    "    #print(v)\n",
    "    if sum(v) == THIS_YEAR:\n",
    "      print(f\"found {v}\")\n",
    "      p = np.prod(np.array(v))\n",
    "      print(f\"product={p}\")"
   ]
  },
  {
   "cell_type": "code",
   "execution_count": null,
   "metadata": {},
   "outputs": [],
   "source": [
    "solve01a(tests)"
   ]
  },
  {
   "cell_type": "code",
   "execution_count": null,
   "metadata": {},
   "outputs": [],
   "source": [
    "ins = list(map(int, read_file_to_list('./in/day01.in')))\n",
    "#ins"
   ]
  },
  {
   "cell_type": "code",
   "execution_count": null,
   "metadata": {},
   "outputs": [],
   "source": [
    "solve01a(ins)"
   ]
  },
  {
   "cell_type": "code",
   "execution_count": null,
   "metadata": {},
   "outputs": [],
   "source": [
    "def solve01b(l):\n",
    "  for v in itertools.combinations(l, 3):\n",
    "    #print(v)\n",
    "    if sum(v) == THIS_YEAR:\n",
    "      print(f\"found {v}\")\n",
    "      p = np.prod(np.array(v))\n",
    "      print(f\"product={p}\")"
   ]
  },
  {
   "cell_type": "code",
   "execution_count": null,
   "metadata": {},
   "outputs": [],
   "source": [
    "print(\"Day 1 b\")\n",
    "print(\"tests:\", solve01b(tests))"
   ]
  },
  {
   "cell_type": "code",
   "execution_count": null,
   "metadata": {},
   "outputs": [],
   "source": [
    "print(\"solution:\", solve01b(ins))"
   ]
  },
  {
   "cell_type": "code",
   "execution_count": null,
   "metadata": {},
   "outputs": [],
   "source": [
    "# Day 2\n",
    "print(\"Day 2 a\")"
   ]
  },
  {
   "cell_type": "code",
   "execution_count": null,
   "metadata": {},
   "outputs": [],
   "source": [
    "test_str = \"\"\"\n",
    "1-3 a: abcde\n",
    "1-3 b: cdefg\n",
    "2-9 c: ccccccccc\n",
    "\"\"\".strip()\n",
    "tests = test_str.split(\"\\n\")\n",
    "#tests"
   ]
  },
  {
   "cell_type": "code",
   "execution_count": null,
   "metadata": {},
   "outputs": [],
   "source": [
    "def solve2a(l):\n",
    "  ct = 0\n",
    "  for line in l:\n",
    "    rules, pwd = line.split(': ')\n",
    "    nums, char = rules.split(' ')\n",
    "    min_num, max_num = map(int, nums.split('-'))\n",
    "    #print(min_num, max_num, char, pwd)\n",
    "    num_ocur = pwd.count(char)\n",
    "    if num_ocur >= min_num and num_ocur <= max_num:\n",
    "      #print(\"  pwd is valid\")\n",
    "      ct += 1\n",
    "    #else:\n",
    "    #  print(\"  pwd is INvalid\")\n",
    "  print(f\"num of valid passwords={ct}\")"
   ]
  },
  {
   "cell_type": "code",
   "execution_count": null,
   "metadata": {},
   "outputs": [],
   "source": [
    "print(\"tests:\", solve2a(tests))"
   ]
  },
  {
   "cell_type": "code",
   "execution_count": null,
   "metadata": {},
   "outputs": [],
   "source": [
    "ins = read_file_to_list('./in/day02.in')\n",
    "print(\"solution:\", solve2a(ins))"
   ]
  },
  {
   "cell_type": "code",
   "execution_count": null,
   "metadata": {},
   "outputs": [],
   "source": [
    "def solve2b(l):\n",
    "  ct = 0\n",
    "  for line in l:\n",
    "    rules, pwd = line.split(': ')\n",
    "    nums, char = rules.split(' ')\n",
    "    min_num, max_num = map(int, nums.split('-'))\n",
    "    #print(min_num, max_num, char, pwd)\n",
    "    num_ocur = pwd[min_num-1].count(char) + pwd[max_num-1].count(char)\n",
    "    if num_ocur == 1:\n",
    "      #print(\"  pwd is valid\")\n",
    "      ct += 1\n",
    "    #else:\n",
    "    #  print(\"  pwd is INvalid\")\n",
    "  print(f\"num of valid passwords={ct}\")\n",
    "  return ct"
   ]
  },
  {
   "cell_type": "code",
   "execution_count": null,
   "metadata": {},
   "outputs": [],
   "source": [
    "print(\"Day 2 b\")\n",
    "print(\"assert day 2 b test conditions\")\n",
    "assert( 1 == solve2b([tests[0]]) )\n",
    "assert( 0 == solve2b([tests[1]]) )\n",
    "assert( 0 == solve2b([tests[2]]) )\n",
    "print(\"assertions were ok.\")"
   ]
  },
  {
   "cell_type": "code",
   "execution_count": null,
   "metadata": {},
   "outputs": [],
   "source": [
    "solve2b(tests)"
   ]
  },
  {
   "cell_type": "code",
   "execution_count": null,
   "metadata": {},
   "outputs": [],
   "source": [
    "solve2b(ins)"
   ]
  },
  {
   "cell_type": "code",
   "execution_count": null,
   "metadata": {},
   "outputs": [],
   "source": [
    "# Day 3\n",
    "print(\"Day 3 a\")"
   ]
  },
  {
   "cell_type": "code",
   "execution_count": null,
   "metadata": {},
   "outputs": [],
   "source": [
    "test_str = \"\"\"\n",
    "..##.......\n",
    "#...#...#..\n",
    ".#....#..#.\n",
    "..#.#...#.#\n",
    ".#...##..#.\n",
    "..#.##.....\n",
    ".#.#.#....#\n",
    ".#........#\n",
    "#.##...#...\n",
    "#...##....#\n",
    ".#..#...#.#\n",
    "\"\"\".strip()\n",
    "tests = test_str.split(\"\\n\")\n",
    "log_debug(tests)"
   ]
  },
  {
   "cell_type": "code",
   "execution_count": null,
   "metadata": {},
   "outputs": [],
   "source": [
    "def prepare_input(l):\n",
    "  outlist = []\n",
    "  for line in l:\n",
    "    outlist.append(list(map(lambda it: 1 if it == '#' else 0, list(line))))\n",
    "  return outlist\n",
    "tests = prepare_input(tests)\n",
    "log_debug(tests)"
   ]
  },
  {
   "cell_type": "code",
   "execution_count": null,
   "metadata": {},
   "outputs": [],
   "source": [
    "def solve3a(l2d):\n",
    "  num_rows = len(l2d)\n",
    "  num_cols = len(l2d[0])\n",
    "  print(f\"num rows={num_rows}, cols={num_cols}\")\n",
    "  posx, posy = [0, 0]\n",
    "  dx, dy = [3, 1]\n",
    "  ct = 0\n",
    "  tpath = ''\n",
    "  for iter in range(1, num_rows+2):\n",
    "    #print(f\"iter {iter}\")\n",
    "    if l2d[posy][posx%num_cols] == 1:\n",
    "      ct += 1\n",
    "      tpath += 'X'\n",
    "    else:\n",
    "      tpath += '0'\n",
    "    posx += dx\n",
    "    posy += dy\n",
    "    #print(f\"new pos={[posx, posy]}\")\n",
    "    if posy > num_rows-1:\n",
    "      print(f\"break at iter#={iter}\")\n",
    "      break\n",
    "    else:\n",
    "      iter += 1\n",
    "  outstr = f\"encountered {ct} trees.\"\n",
    "  if DEBUG_FLAG > 0:\n",
    "    outstr += f\"Path={tpath}\"\n",
    "  print(outstr)"
   ]
  },
  {
   "cell_type": "code",
   "execution_count": null,
   "metadata": {},
   "outputs": [],
   "source": [
    "solve3a(tests)"
   ]
  },
  {
   "cell_type": "code",
   "execution_count": null,
   "metadata": {},
   "outputs": [],
   "source": [
    "ins = prepare_input(read_file_to_list('./in/day03.in'))"
   ]
  },
  {
   "cell_type": "code",
   "execution_count": null,
   "metadata": {},
   "outputs": [],
   "source": [
    "solve3a(ins)"
   ]
  },
  {
   "cell_type": "code",
   "execution_count": null,
   "metadata": {},
   "outputs": [],
   "source": [
    "def solve3b(l2d, vec):\n",
    "  num_rows = len(l2d)\n",
    "  num_cols = len(l2d[0])\n",
    "  log_debug(f\"num rows={num_rows}, cols={num_cols}, vector={vec}\")\n",
    "  posx, posy = [0, 0]\n",
    "  dx, dy = vec #reversed(vec)\n",
    "  ct = 0\n",
    "  for iter in range(0, num_rows+1):\n",
    "    #print(f\"i={iter} @{[posx, posy]} : {l2d[posy][posx%num_cols]}\")\n",
    "    if l2d[posy][posx%num_cols] == 1:\n",
    "      ct += 1\n",
    "    posx += dx\n",
    "    posy += dy\n",
    "    if posy > num_rows-1:\n",
    "      log_debug(f\"break at iter#={iter}\")\n",
    "      break\n",
    "    else:\n",
    "      iter += 1\n",
    "  log_debug(f\"encountered {ct} trees.\")\n",
    "  return ct"
   ]
  },
  {
   "cell_type": "code",
   "execution_count": null,
   "metadata": {},
   "outputs": [],
   "source": [
    "print(\"Day 3 b\")\n",
    "#print(\"number of trees encountered:\", solve3b(tests, [3, 1]))"
   ]
  },
  {
   "cell_type": "code",
   "execution_count": null,
   "metadata": {},
   "outputs": [],
   "source": [
    "print(\"assert day 3 b test conditions:\")\n",
    "assert( 2 == solve3b(tests, [1, 1]))\n",
    "assert( 7 == solve3b(tests, [3, 1]))\n",
    "assert( 3 == solve3b(tests, [5, 1]))\n",
    "assert( 4 == solve3b(tests, [7, 1]))\n",
    "assert( 2 == solve3b(tests, [1, 2]))\n",
    "print(\"assertions were ok.\")"
   ]
  },
  {
   "cell_type": "code",
   "execution_count": null,
   "metadata": {},
   "outputs": [],
   "source": [
    "p = solve3b(tests, [1, 1]) * solve3b(tests, [3, 1]) * solve3b(tests, [5, 1]) \\\n",
    "    * solve3b(tests, [7, 1]) * solve3b(tests, [1, 2])\n",
    "print(\"day 3 b test result (product):\", p)"
   ]
  },
  {
   "cell_type": "code",
   "execution_count": null,
   "metadata": {},
   "outputs": [],
   "source": [
    "p = solve3b(ins, [1, 1]) * solve3b(ins, [3, 1]) * solve3b(ins, [5, 1]) \\\n",
    "      * solve3b(ins, [7, 1]) * solve3b(ins, [1, 2])\n",
    "print(\"day 3 b solution (product):\", p)"
   ]
  },
  {
   "cell_type": "code",
   "execution_count": null,
   "metadata": {},
   "outputs": [],
   "source": []
  }
 ],
 "metadata": {
  "kernelspec": {
   "display_name": "Python 3",
   "language": "python",
   "name": "python3"
  },
  "language_info": {
   "codemirror_mode": {
    "name": "ipython",
    "version": 3
   },
   "file_extension": ".py",
   "mimetype": "text/x-python",
   "name": "python",
   "nbconvert_exporter": "python",
   "pygments_lexer": "ipython3",
   "version": "3.7.9"
  }
 },
 "nbformat": 4,
 "nbformat_minor": 4
}
