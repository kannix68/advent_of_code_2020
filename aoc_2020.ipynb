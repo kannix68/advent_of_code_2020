{
 "cells": [
  {
   "cell_type": "markdown",
   "metadata": {},
   "source": [
    "# Advent of Code 2020\n",
    "\n",
    "This solution (Jupyter notebook; python3.7) by kannix68, @ 2020-12.  \\\n",
    "Using anaconda distro, conda v4.9.2. installation on MacOS v10.14.6 \"Mojave\"."
   ]
  },
  {
   "cell_type": "markdown",
   "metadata": {},
   "source": [
    "## Generic AoC code"
   ]
  },
  {
   "cell_type": "code",
   "execution_count": null,
   "metadata": {},
   "outputs": [],
   "source": [
    "import sys\n",
    "import logging\n",
    "\n",
    "import lib.aochelper as aoc\n",
    "from lib.aochelper import map_list as mapl\n",
    "from lib.aochelper import filter_list as filterl\n",
    "\n",
    "print(\"Python version:\", sys.version)\n",
    "print(\"Version info:\", sys.version_info)\n",
    "\n",
    "log = aoc.getLogger(__name__)\n",
    "print(f\"initial log-level={log.getEffectiveLevel()}\")\n",
    "\n",
    "EXEC_RESOURCE_HOGS = False"
   ]
  },
  {
   "cell_type": "markdown",
   "metadata": {},
   "source": [
    "## Problem domain code"
   ]
  },
  {
   "cell_type": "markdown",
   "metadata": {},
   "source": [
    "### Day 1: Report Repair"
   ]
  },
  {
   "cell_type": "code",
   "execution_count": null,
   "metadata": {},
   "outputs": [],
   "source": [
    "print(\"Day 1 a\")"
   ]
  },
  {
   "cell_type": "code",
   "execution_count": null,
   "metadata": {},
   "outputs": [],
   "source": [
    "THIS_YEAR = 2020 # \"Last christmas, I gave you my heart... this year...\" - Wham!"
   ]
  },
  {
   "cell_type": "code",
   "execution_count": null,
   "metadata": {},
   "outputs": [],
   "source": [
    "test_str = \"\"\"\n",
    "1721\n",
    "979\n",
    "366\n",
    "299\n",
    "675\n",
    "1456\"\"\".strip()\n",
    "tests = list(map(int, test_str.split(\"\\n\")))\n",
    "log.warning(tests)"
   ]
  },
  {
   "cell_type": "code",
   "execution_count": null,
   "metadata": {},
   "outputs": [],
   "source": [
    "import itertools\n",
    "#from operator import mul\n",
    "import numpy as np"
   ]
  },
  {
   "cell_type": "code",
   "execution_count": null,
   "metadata": {},
   "outputs": [],
   "source": [
    "def solve01a(l):\n",
    "  for v in itertools.combinations(l, 2):\n",
    "    v = np.array(v) # using numpy for elegance, array \"object\" methods .sum() and .prod()\n",
    "    #print(v)\n",
    "    if v.sum() == THIS_YEAR:\n",
    "      log.info(f\"found {v}\")\n",
    "      p = v.prod()\n",
    "      log.debug(f\"product={p}\")\n",
    "      break\n",
    "  return p"
   ]
  },
  {
   "cell_type": "code",
   "execution_count": null,
   "metadata": {},
   "outputs": [],
   "source": [
    "result = solve01a(tests)\n",
    "print(\"tests solution\", result)"
   ]
  },
  {
   "cell_type": "code",
   "execution_count": null,
   "metadata": {},
   "outputs": [],
   "source": [
    "ins = list(map(int, aoc.read_file_to_list('./in/day01.in')))\n",
    "#ins"
   ]
  },
  {
   "cell_type": "code",
   "execution_count": null,
   "metadata": {},
   "outputs": [],
   "source": [
    "result = solve01a(ins)\n",
    "print(\"Day 1 a solution:\", result)"
   ]
  },
  {
   "cell_type": "code",
   "execution_count": null,
   "metadata": {},
   "outputs": [],
   "source": [
    "def solve01b(l):\n",
    "  for v in itertools.combinations(l, 3):\n",
    "    v = np.array(v)\n",
    "    #print(v)\n",
    "    if v.sum() == THIS_YEAR:\n",
    "      log.info(f\"found {v}\")\n",
    "      p = v.prod() #np.prod(np.array(v))\n",
    "      log.debug(f\"product={p}\")\n",
    "      break\n",
    "  return p"
   ]
  },
  {
   "cell_type": "code",
   "execution_count": null,
   "metadata": {},
   "outputs": [],
   "source": [
    "print(\"Day 1 b\")\n",
    "print(\"test results:\", solve01b(tests))"
   ]
  },
  {
   "cell_type": "code",
   "execution_count": null,
   "metadata": {},
   "outputs": [],
   "source": [
    "print(\"Day 1 b solution:\", solve01b(ins))"
   ]
  },
  {
   "cell_type": "markdown",
   "metadata": {},
   "source": [
    "### Day 2: Password Philosophy"
   ]
  },
  {
   "cell_type": "code",
   "execution_count": null,
   "metadata": {},
   "outputs": [],
   "source": [
    "print(\"Day 2 a\")"
   ]
  },
  {
   "cell_type": "code",
   "execution_count": null,
   "metadata": {},
   "outputs": [],
   "source": [
    "test_str = \"\"\"\n",
    "1-3 a: abcde\n",
    "1-3 b: cdefg\n",
    "2-9 c: ccccccccc\n",
    "\"\"\".strip()\n",
    "tests = test_str.split(\"\\n\")\n",
    "#tests"
   ]
  },
  {
   "cell_type": "code",
   "execution_count": null,
   "metadata": {},
   "outputs": [],
   "source": [
    "def solve02a(l):\n",
    "  ct = 0\n",
    "  for line in l:\n",
    "    rules, pwd = line.split(': ')\n",
    "    nums, char = rules.split(' ')\n",
    "    min_num, max_num = map(int, nums.split('-'))\n",
    "    #print(min_num, max_num, char, pwd)\n",
    "    num_ocur = pwd.count(char)\n",
    "    if num_ocur >= min_num and num_ocur <= max_num:\n",
    "      #print(\"  pwd is valid\")\n",
    "      ct += 1\n",
    "    #else:\n",
    "    #  print(\"  pwd is INvalid\")\n",
    "  log.debug(f\"num of valid passwords={ct}\")\n",
    "  return ct"
   ]
  },
  {
   "cell_type": "code",
   "execution_count": null,
   "metadata": {},
   "outputs": [],
   "source": [
    "result = solve02a(tests)\n",
    "print(\"tests result:\", result)"
   ]
  },
  {
   "cell_type": "code",
   "execution_count": null,
   "metadata": {},
   "outputs": [],
   "source": [
    "ins = aoc.read_file_to_list('./in/day02.in')\n",
    "print(\"Day 2 a solution:\", solve02a(ins))"
   ]
  },
  {
   "cell_type": "code",
   "execution_count": null,
   "metadata": {},
   "outputs": [],
   "source": [
    "def solve02b(l):\n",
    "  ct = 0\n",
    "  for line in l:\n",
    "    rules, pwd = line.split(': ')\n",
    "    nums, char = rules.split(' ')\n",
    "    min_num, max_num = map(int, nums.split('-'))\n",
    "    #print(min_num, max_num, char, pwd)\n",
    "    num_ocur = pwd[min_num-1].count(char) + pwd[max_num-1].count(char)\n",
    "    if num_ocur == 1:\n",
    "      #print(\"  pwd is valid\")\n",
    "      ct += 1\n",
    "    #else:\n",
    "    #  print(\"  pwd is INvalid\")\n",
    "  log.debug(f\"num of valid passwords={ct}\")\n",
    "  return ct"
   ]
  },
  {
   "cell_type": "code",
   "execution_count": null,
   "metadata": {},
   "outputs": [],
   "source": [
    "print(\"Day 2 b\")\n",
    "print(\"assert day 2 b test conditions\")\n",
    "assert( 1 == solve02b([tests[0]]) )\n",
    "assert( 0 == solve02b([tests[1]]) )\n",
    "assert( 0 == solve02b([tests[2]]) )\n",
    "print(\"assertions were ok.\")"
   ]
  },
  {
   "cell_type": "code",
   "execution_count": null,
   "metadata": {},
   "outputs": [],
   "source": [
    "print(\"tests result:\", solve02b(tests))"
   ]
  },
  {
   "cell_type": "code",
   "execution_count": null,
   "metadata": {},
   "outputs": [],
   "source": [
    "print(\"Day 2 b solution:\", solve02b(ins))"
   ]
  },
  {
   "cell_type": "markdown",
   "metadata": {},
   "source": [
    "### Day 3: Toboggan Trajectory"
   ]
  },
  {
   "cell_type": "code",
   "execution_count": null,
   "metadata": {},
   "outputs": [],
   "source": [
    "print(\"Day 3 a\")"
   ]
  },
  {
   "cell_type": "code",
   "execution_count": null,
   "metadata": {},
   "outputs": [],
   "source": [
    "test_str = \"\"\"\n",
    "..##.......\n",
    "#...#...#..\n",
    ".#....#..#.\n",
    "..#.#...#.#\n",
    ".#...##..#.\n",
    "..#.##.....\n",
    ".#.#.#....#\n",
    ".#........#\n",
    "#.##...#...\n",
    "#...##....#\n",
    ".#..#...#.#\n",
    "\"\"\".strip()\n",
    "tests = test_str.split(\"\\n\")\n",
    "log.debug(tests)"
   ]
  },
  {
   "cell_type": "code",
   "execution_count": null,
   "metadata": {},
   "outputs": [],
   "source": [
    "def prepare_input(l):\n",
    "  outlist = []\n",
    "  for line in l:\n",
    "    outlist.append(list(map(lambda it: 1 if it == '#' else 0, list(line))))\n",
    "  return outlist\n",
    "tests = prepare_input(tests)\n",
    "log.debug(tests)"
   ]
  },
  {
   "cell_type": "code",
   "execution_count": null,
   "metadata": {},
   "outputs": [],
   "source": [
    "def solve03a(l2d):\n",
    "  num_rows = len(l2d)\n",
    "  num_cols = len(l2d[0])\n",
    "  log.info(f\"num rows={num_rows}, cols={num_cols}\")\n",
    "  posx, posy = [0, 0]\n",
    "  dx, dy = [3, 1]\n",
    "  ct = 0\n",
    "  tpath = ''\n",
    "  for iter in range(1, num_rows+2):\n",
    "    #print(f\"iter {iter}\")\n",
    "    if l2d[posy][posx%num_cols] == 1:\n",
    "      ct += 1\n",
    "      tpath += 'X'\n",
    "    else:\n",
    "      tpath += '0'\n",
    "    posx += dx\n",
    "    posy += dy\n",
    "    #print(f\"new pos={[posx, posy]}\")\n",
    "    if posy > num_rows-1:\n",
    "      log.debug(f\"break at iter#={iter}\")\n",
    "      break\n",
    "    else:\n",
    "      iter += 1\n",
    "  outstr = f\"encountered {ct} trees.\"\n",
    "  if log.getEffectiveLevel() <= logging.DEBUG:\n",
    "    outstr += f\"Path={tpath}\"\n",
    "  log.info(outstr)\n",
    "  return ct"
   ]
  },
  {
   "cell_type": "code",
   "execution_count": null,
   "metadata": {},
   "outputs": [],
   "source": [
    "print(\"Day 3 a tests:\")\n",
    "print(solve03a(tests))"
   ]
  },
  {
   "cell_type": "code",
   "execution_count": null,
   "metadata": {},
   "outputs": [],
   "source": [
    "ins = prepare_input(aoc.read_file_to_list('./in/day03.in'))"
   ]
  },
  {
   "cell_type": "code",
   "execution_count": null,
   "metadata": {},
   "outputs": [],
   "source": [
    "result = solve03a(ins)\n",
    "print(\"Day 3 a solution:\", result)"
   ]
  },
  {
   "cell_type": "code",
   "execution_count": null,
   "metadata": {},
   "outputs": [],
   "source": [
    "def solve03b(l2d, vec):\n",
    "  num_rows = len(l2d)\n",
    "  num_cols = len(l2d[0])\n",
    "  log.debug(f\"num rows={num_rows}, cols={num_cols}, vector={vec}\")\n",
    "  posx, posy = [0, 0]\n",
    "  dx, dy = vec #reversed(vec)\n",
    "  ct = 0\n",
    "  for iter in range(0, num_rows+1):\n",
    "    #print(f\"i={iter} @{[posx, posy]} : {l2d[posy][posx%num_cols]}\")\n",
    "    if l2d[posy][posx%num_cols] == 1:\n",
    "      ct += 1\n",
    "    posx += dx\n",
    "    posy += dy\n",
    "    if posy > num_rows-1:\n",
    "      log.debug(f\"break at iter#={iter}\")\n",
    "      break\n",
    "    else:\n",
    "      iter += 1\n",
    "  log.debug(f\"encountered {ct} trees.\")\n",
    "  return ct"
   ]
  },
  {
   "cell_type": "code",
   "execution_count": null,
   "metadata": {},
   "outputs": [],
   "source": [
    "print(\"Day 3 b\")\n",
    "#print(\"number of trees encountered:\", solve3b(tests, [3, 1]))"
   ]
  },
  {
   "cell_type": "code",
   "execution_count": null,
   "metadata": {},
   "outputs": [],
   "source": [
    "print(\"assert day 3 b test conditions:\")\n",
    "assert( 2 == solve03b(tests, [1, 1]))\n",
    "assert( 7 == solve03b(tests, [3, 1]))\n",
    "assert( 3 == solve03b(tests, [5, 1]))\n",
    "assert( 4 == solve03b(tests, [7, 1]))\n",
    "assert( 2 == solve03b(tests, [1, 2]))\n",
    "print(\"assertions were ok.\")"
   ]
  },
  {
   "cell_type": "code",
   "execution_count": null,
   "metadata": {},
   "outputs": [],
   "source": [
    "p = solve03b(tests, [1, 1]) * solve03b(tests, [3, 1]) * solve03b(tests, [5, 1]) \\\n",
    "    * solve03b(tests, [7, 1]) * solve03b(tests, [1, 2])\n",
    "print(\"day 3 b test result (product):\", p)"
   ]
  },
  {
   "cell_type": "code",
   "execution_count": null,
   "metadata": {},
   "outputs": [],
   "source": [
    "p = solve03b(ins, [1, 1]) * solve03b(ins, [3, 1]) * solve03b(ins, [5, 1]) \\\n",
    "      * solve03b(ins, [7, 1]) * solve03b(ins, [1, 2])\n",
    "print(\"day 3 b solution (product):\", p)"
   ]
  },
  {
   "cell_type": "markdown",
   "metadata": {},
   "source": [
    "### Day 4: Passport Processing"
   ]
  },
  {
   "cell_type": "code",
   "execution_count": null,
   "metadata": {},
   "outputs": [],
   "source": [
    "fields_mandat = {'byr', 'iyr', 'eyr', 'hgt', 'hcl', 'ecl', 'pid'}\n",
    "fields_opt = {'cid'}"
   ]
  },
  {
   "cell_type": "code",
   "execution_count": null,
   "metadata": {},
   "outputs": [],
   "source": [
    "test_str = \"\"\"\n",
    "ecl:gry pid:860033327 eyr:2020 hcl:#fffffd\n",
    "byr:1937 iyr:2017 cid:147 hgt:183cm\n",
    "\n",
    "iyr:2013 ecl:amb cid:350 eyr:2023 pid:028048884\n",
    "hcl:#cfa07d byr:1929\n",
    "\n",
    "hcl:#ae17e1 iyr:2013\n",
    "eyr:2024\n",
    "ecl:brn pid:760753108 byr:1931\n",
    "hgt:179cm\n",
    "\n",
    "hcl:#cfa07d eyr:2025 pid:166559648\n",
    "iyr:2011 ecl:brn hgt:59in\n",
    "\"\"\".strip()\n",
    "tests = test_str.split(\"\\n\\n\")\n",
    "log.debug(tests)"
   ]
  },
  {
   "cell_type": "code",
   "execution_count": null,
   "metadata": {},
   "outputs": [],
   "source": [
    "import re"
   ]
  },
  {
   "cell_type": "code",
   "execution_count": null,
   "metadata": {},
   "outputs": [],
   "source": [
    "def passport_valid(passport):\n",
    "  entries = re.split(r'\\s+', passport)\n",
    "  log.debug(entries)\n",
    "  fields = []\n",
    "  for entry in entries:\n",
    "    field = entry.split(':')[0]\n",
    "    fields.append(field)\n",
    "  #log.debug(sorted(fields))\n",
    "  b = fields_mandat.issubset(fields)\n",
    "  log.debug(f\"valid?: {b}\")\n",
    "  return b"
   ]
  },
  {
   "cell_type": "code",
   "execution_count": null,
   "metadata": {},
   "outputs": [],
   "source": [
    "def solve04a(passports):\n",
    "  ct = 0\n",
    "  for passport in passports:\n",
    "    if passport_valid(passport):\n",
    "      ct +=1\n",
    "  log.debug(f\"valid-count: {ct}\")\n",
    "  return ct"
   ]
  },
  {
   "cell_type": "code",
   "execution_count": null,
   "metadata": {},
   "outputs": [],
   "source": [
    "print(\"tests valid-count:\", solve04a(tests))"
   ]
  },
  {
   "cell_type": "code",
   "execution_count": null,
   "metadata": {},
   "outputs": [],
   "source": [
    "ins = aoc.read_file_to_str('./in/day04.in').split(\"\\n\\n\")\n",
    "print(\"Day 4 a solution: valid-count:\", solve04a(ins))"
   ]
  },
  {
   "cell_type": "code",
   "execution_count": null,
   "metadata": {},
   "outputs": [],
   "source": [
    "def passport_valid2(passport):\n",
    "  entries = re.split(r'\\s+', passport)\n",
    "  log.debug(entries)\n",
    "  fields = []\n",
    "  values = []\n",
    "  for entry in entries:\n",
    "    field, val = entry.split(':')\n",
    "    fields.append(field)\n",
    "    values.append(val)\n",
    "  #log.debug(sorted(fields))\n",
    "  if not fields_mandat.issubset(fields):\n",
    "    log.debug(\"invalid: mandatory fields missing\")\n",
    "    return False \n",
    "  for idx, field in enumerate(fields):\n",
    "    val = values[idx]\n",
    "    if field == 'byr':\n",
    "      # byr (Birth Year) - four digits; at least 1920 and at most 2002.\n",
    "      ival = int(val)\n",
    "      if not (ival >= 1920 and ival <= 2002):\n",
    "        log.debug(f\"invalid: byr value {val}\")\n",
    "        return False\n",
    "    elif field == 'iyr':\n",
    "      # iyr (Issue Year) - four digits; at least 2010 and at most 2020.\n",
    "      ival = int(val)\n",
    "      if not (ival >= 2010 and ival <= THIS_YEAR):\n",
    "        log.debug(f\"invalid: iyr value {val}\")\n",
    "        return False\n",
    "    elif field == 'eyr':\n",
    "      # eyr (Expiration Year) - four digits; at least 2020 and at most 2030\n",
    "      ival = int(val)\n",
    "      if not (ival >= THIS_YEAR and ival <= 2030):\n",
    "        log.debug(f\"invalid: eyr value {val}\")\n",
    "        return False\n",
    "    elif field == 'hgt':\n",
    "      # hgt (Height) - a number followed by either cm or in:\n",
    "      # - If cm, the number must be at least 150 and at most 193.\n",
    "      # - If in, the number must be at least 59 and at most 76.\n",
    "      # py-regex: ^(\\d+)(?=cm|in)(cm|in)$\n",
    "      if not re.match(r'^\\d+(cm|in)$', val):\n",
    "        log.debug(f\"invalid: hgt val={val}, form.\")\n",
    "        return False\n",
    "      numstr, unit = re.split(r'(?=cm|in)', val)\n",
    "      num = int(numstr)\n",
    "      if unit == 'cm':\n",
    "        if not (num >= 150 and num <= 193):\n",
    "          log.debug(f\"invalid: hgt val={val} num={num}\")\n",
    "          return False\n",
    "      elif unit == 'in':\n",
    "        if not (num >= 59 and num <= 76):\n",
    "          log.debug(f\"invalid: hgt val={val} num={num}\")\n",
    "          return False\n",
    "      else:\n",
    "        log.debug(f\"invalid: hgt val={val} unit={unit}\")\n",
    "        return False\n",
    "    elif field == 'hcl':\n",
    "      # hcl (Hair Color) - a # followed by exactly six characters 0-9 or a-f.\n",
    "      if not re.match(r'^#[0-9a-f]{6}$', val):\n",
    "        log.debug(f\"invalid: hcl value {val}\")\n",
    "        return False\n",
    "    elif field == 'ecl':\n",
    "      # ecl (Eye Color) - exactly one of: amb blu brn gry grn hzl oth.\n",
    "      if not val in ['amb', 'blu', 'brn', 'gry', 'grn', 'hzl', 'oth']:\n",
    "        log.debug(f\"invalid: ecl value {val}\")\n",
    "        return False\n",
    "    elif field == 'pid':\n",
    "      # pid (Passport ID) - a nine-digit number, including leading zeroes.\n",
    "      if not re.match(r'^[0-9]{9}$', val):\n",
    "        log.debug(f\"invalid: pid value {val}\")\n",
    "        return False\n",
    "  log.debug(\"valid!\")\n",
    "  return True"
   ]
  },
  {
   "cell_type": "code",
   "execution_count": null,
   "metadata": {},
   "outputs": [],
   "source": [
    "tests_invalid = \"\"\"\n",
    "eyr:1972 cid:100\n",
    "hcl:#18171d ecl:amb hgt:170 pid:186cm iyr:2018 byr:1926\n",
    "\n",
    "iyr:2019\n",
    "hcl:#602927 eyr:1967 hgt:170cm\n",
    "ecl:grn pid:012533040 byr:1946\n",
    "\n",
    "hcl:dab227 iyr:2012\n",
    "ecl:brn hgt:182cm pid:021572410 eyr:2020 byr:1992 cid:277\n",
    "\n",
    "hgt:59cm ecl:zzz\n",
    "eyr:2038 hcl:74454a iyr:2023\n",
    "pid:3556412378 byr:2\n",
    "\"\"\".strip().split(\"\\n\\n\")"
   ]
  },
  {
   "cell_type": "code",
   "execution_count": null,
   "metadata": {},
   "outputs": [],
   "source": [
    "print(\"tests, all invalid:\")\n",
    "for passport in tests_invalid:\n",
    "  print(passport.replace(\"\\n\", \" \"))\n",
    "  print(\"valid?:\", passport_valid2(passport))\n",
    "  print()"
   ]
  },
  {
   "cell_type": "code",
   "execution_count": null,
   "metadata": {},
   "outputs": [],
   "source": [
    "tests_valid = \"\"\"\n",
    "pid:087499704 hgt:74in ecl:grn iyr:2012 eyr:2030 byr:1980\n",
    "hcl:#623a2f\n",
    "\n",
    "eyr:2029 ecl:blu cid:129 byr:1989\n",
    "iyr:2014 pid:896056539 hcl:#a97842 hgt:165cm\n",
    "\n",
    "hcl:#888785\n",
    "hgt:164cm byr:2001 iyr:2015 cid:88\n",
    "pid:545766238 ecl:hzl\n",
    "eyr:2022\n",
    "\n",
    "iyr:2010 hgt:158cm hcl:#b6652a ecl:blu byr:1944 eyr:2021 pid:093154719\n",
    "\"\"\".strip().split(\"\\n\\n\")"
   ]
  },
  {
   "cell_type": "code",
   "execution_count": null,
   "metadata": {},
   "outputs": [],
   "source": [
    "print(\"tests, all valid:\")\n",
    "for passport in tests_valid:\n",
    "  print(passport.replace(\"\\n\", \" \"))\n",
    "  print(\"valid?:\", passport_valid2(passport))\n",
    "  print()"
   ]
  },
  {
   "cell_type": "code",
   "execution_count": null,
   "metadata": {},
   "outputs": [],
   "source": [
    "def solve04b(passports):\n",
    "  ct = 0\n",
    "  for passport in passports:\n",
    "    log.debug(passport)\n",
    "    if passport_valid2(passport):\n",
    "      ct +=1\n",
    "  log.debug(f\"valid-count: {ct}\")\n",
    "  return ct"
   ]
  },
  {
   "cell_type": "code",
   "execution_count": null,
   "metadata": {},
   "outputs": [],
   "source": [
    "assert( 0 == solve04b(tests_invalid) )"
   ]
  },
  {
   "cell_type": "code",
   "execution_count": null,
   "metadata": {},
   "outputs": [],
   "source": [
    "assert( 4 == solve04b(tests_valid) )"
   ]
  },
  {
   "cell_type": "code",
   "execution_count": null,
   "metadata": {},
   "outputs": [],
   "source": [
    "result = solve04b(ins)\n",
    "print(\"Day 4 b result:\", result)"
   ]
  },
  {
   "cell_type": "markdown",
   "metadata": {},
   "source": [
    "### Day 5: Binary Boarding"
   ]
  },
  {
   "cell_type": "code",
   "execution_count": null,
   "metadata": {},
   "outputs": [],
   "source": [
    "import functools\n",
    "import operator\n",
    "\n",
    "# see: [python - How to make a flat list out of list of lists? - Stack Overflow](https://stackoverflow.com/questions/952914/how-to-make-a-flat-list-out-of-list-of-lists)\n",
    "def flatten_list(l):\n",
    "  \"\"\"Flatten a list.\"\"\"\n",
    "  return functools.reduce(operator.iconcat, l, [])\n",
    "\n",
    "def get_seat_id(s):\n",
    "  rows = aoc.range_list(0, 128)\n",
    "  cols = aoc.range_list(0, 8)\n",
    "  #log.debug(cols)\n",
    "  for c in s:\n",
    "    if c == 'F':\n",
    "      rows = rows[:len(rows)//2]\n",
    "    elif c == 'B':\n",
    "      rows = rows[len(rows)//2:]\n",
    "    elif c == 'L':\n",
    "      cols = cols[:len(cols)//2]\n",
    "    elif c == 'R':\n",
    "      cols = cols[len(cols)//2:]\n",
    "  result_list = flatten_list([rows, cols])\n",
    "  log.debug(result_list)\n",
    "  return result_list[0]*8 + result_list[1]"
   ]
  },
  {
   "cell_type": "code",
   "execution_count": null,
   "metadata": {},
   "outputs": [],
   "source": [
    "boardingpass = 'FBFBBFFRLR'\n",
    "get_seat_id(boardingpass)"
   ]
  },
  {
   "cell_type": "code",
   "execution_count": null,
   "metadata": {},
   "outputs": [],
   "source": [
    "# Given tests:\n",
    "assert(357 == get_seat_id('FBFBBFFRLR'))"
   ]
  },
  {
   "cell_type": "code",
   "execution_count": null,
   "metadata": {},
   "outputs": [],
   "source": [
    "assert(567 == get_seat_id('BFFFBBFRRR'))\n",
    "assert(119 == get_seat_id('FFFBBBFRRR'))\n",
    "assert(820 == get_seat_id('BBFFBBFRLL'))"
   ]
  },
  {
   "cell_type": "code",
   "execution_count": null,
   "metadata": {},
   "outputs": [],
   "source": [
    "ins = aoc.read_file_to_list('./in/day05.in')\n",
    "print( \"Day 5 a solution:\", max(map(get_seat_id, ins)) )"
   ]
  },
  {
   "cell_type": "code",
   "execution_count": null,
   "metadata": {},
   "outputs": [],
   "source": [
    "print(\"number of boarding passes given:\", (len(ins)))\n",
    "#print(\"number of used rows in plane:\", (len(ins)+1)/8.0)\n",
    "\n",
    "min_seat_id = 0*8 + 0  # from min row and min column/seat\n",
    "max_seat_id = 127*8 + 7  # from max row and max column/seat\n",
    "print(\"seat_id min/max\", [min_seat_id, max_seat_id])"
   ]
  },
  {
   "cell_type": "code",
   "execution_count": null,
   "metadata": {},
   "outputs": [],
   "source": [
    "seat_ids = aoc.range_list(min_seat_id, max_seat_id+1)\n",
    "for boardingpass in ins: # remove used/given seat_id\n",
    "  seat_ids.remove(get_seat_id(boardingpass))\n",
    "log.debug(\"ids remain unseen:\")\n",
    "log.debug(seat_ids)\n",
    "for seat_id in seat_ids:\n",
    "  if not( (seat_id-1) in seat_ids and (seat_id>min_seat_id) ) \\\n",
    "    and not( (seat_id+1) in seat_ids and (seat_id<max_seat_id) ):\n",
    "    print(\"(Day 5 b solution) found id:\", seat_id)"
   ]
  },
  {
   "cell_type": "markdown",
   "metadata": {},
   "source": [
    "### Day 6: Custom Customs"
   ]
  },
  {
   "cell_type": "code",
   "execution_count": null,
   "metadata": {},
   "outputs": [],
   "source": [
    "test_str = \"\"\"\n",
    "abcx\n",
    "abcy\n",
    "abcz\n",
    "\"\"\".strip()\n",
    "test = test_str.split(\"\\n\")\n",
    "log.debug(test)"
   ]
  },
  {
   "cell_type": "code",
   "execution_count": null,
   "metadata": {},
   "outputs": [],
   "source": [
    "from collections import defaultdict"
   ]
  },
  {
   "cell_type": "code",
   "execution_count": null,
   "metadata": {},
   "outputs": [],
   "source": [
    "def get_group_answers(answers_in):\n",
    "  answers = defaultdict(int)\n",
    "  for tanswers in answers_in:\n",
    "    for tanswer in tanswers:\n",
    "      answers[tanswer] += 1\n",
    "  #log.debug(answers)\n",
    "  #log.debug(f\"len={len(answers.keys())}, vals={answers.keys()}\")\n",
    "  return answers"
   ]
  },
  {
   "cell_type": "code",
   "execution_count": null,
   "metadata": {},
   "outputs": [],
   "source": [
    "print(\"testing...\", get_group_answers(test))"
   ]
  },
  {
   "cell_type": "code",
   "execution_count": null,
   "metadata": {},
   "outputs": [],
   "source": [
    "assert( 6 == len(get_group_answers(test).keys()) )"
   ]
  },
  {
   "cell_type": "code",
   "execution_count": null,
   "metadata": {},
   "outputs": [],
   "source": [
    "test_str = \"\"\"\n",
    "abc\n",
    "\n",
    "a\n",
    "b\n",
    "c\n",
    "\n",
    "ab\n",
    "ac\n",
    "\n",
    "a\n",
    "a\n",
    "a\n",
    "a\n",
    "\n",
    "b\n",
    "\"\"\".strip()\n",
    "tests = test_str.split(\"\\n\\n\")\n",
    "log.debug(tests)"
   ]
  },
  {
   "cell_type": "code",
   "execution_count": null,
   "metadata": {},
   "outputs": [],
   "source": [
    "def solve06a(groupanswers):\n",
    "  i = 0\n",
    "  for groupanswer in groupanswers:\n",
    "    result = get_group_answers(groupanswer.split(\"\\n\")).keys()\n",
    "    #log.debug(f\"distinctanswers={result} for {groupanswer}\")\n",
    "    i += len(result)\n",
    "  log.info(f\"answerssum={i}\")\n",
    "  return i"
   ]
  },
  {
   "cell_type": "code",
   "execution_count": null,
   "metadata": {},
   "outputs": [],
   "source": [
    "assert( 11 == solve06a(tests) )\n",
    "print(\"test assertion ok.\")"
   ]
  },
  {
   "cell_type": "code",
   "execution_count": null,
   "metadata": {},
   "outputs": [],
   "source": [
    "ins = aoc.read_file_to_str('./in/day06.in').split(\"\\n\\n\")\n",
    "print(\"Day 6 a solution: groupanwers-sum:\", solve06a(ins))"
   ]
  },
  {
   "cell_type": "code",
   "execution_count": null,
   "metadata": {},
   "outputs": [],
   "source": [
    "print(\"Day 6 b\")"
   ]
  },
  {
   "cell_type": "code",
   "execution_count": null,
   "metadata": {},
   "outputs": [],
   "source": [
    "def get_group_answers2(answers_in):\n",
    "  answers = defaultdict(int)\n",
    "  num_persons = len(answers_in)\n",
    "  for tanswers in answers_in:\n",
    "    for tanswer in tanswers:\n",
    "      answers[tanswer] += 1\n",
    "  #log.debug(answers)\n",
    "  #log.debug(len(answers.keys()), answers.keys())\n",
    "  ct = 0\n",
    "  #for idx, (key, val) in enumerate(d.items()):\n",
    "  for key, val in answers.items():\n",
    "    if val == num_persons:\n",
    "      ct += 1\n",
    "  return ct\n",
    "\n",
    "def solve06b(groupanswers):\n",
    "  i = 0\n",
    "  for groupanswer in groupanswers:\n",
    "    result = get_group_answers2(groupanswer.split(\"\\n\"))\n",
    "    #log.debug(f\"all-answers={result} for {groupanswer}\")\n",
    "    i += result\n",
    "  log.info(f\"all-answers-sum={i}\")\n",
    "  return i"
   ]
  },
  {
   "cell_type": "code",
   "execution_count": null,
   "metadata": {},
   "outputs": [],
   "source": [
    "assert( 6 == solve06b(tests) )\n",
    "print(\"test assertion ok.\")"
   ]
  },
  {
   "cell_type": "code",
   "execution_count": null,
   "metadata": {},
   "outputs": [],
   "source": [
    "print(\"Day 6 b solution: groupanwers-sum:\", solve06b(ins))"
   ]
  },
  {
   "cell_type": "markdown",
   "metadata": {},
   "source": [
    "### Day 7: Handy Haversacks"
   ]
  },
  {
   "cell_type": "code",
   "execution_count": null,
   "metadata": {},
   "outputs": [],
   "source": [
    "import networkx as nx"
   ]
  },
  {
   "cell_type": "code",
   "execution_count": null,
   "metadata": {},
   "outputs": [],
   "source": [
    "test_str = \"\"\"\n",
    "light red bags contain 1 bright white bag, 2 muted yellow bags.\n",
    "dark orange bags contain 3 bright white bags, 4 muted yellow bags.\n",
    "bright white bags contain 1 shiny gold bag.\n",
    "muted yellow bags contain 2 shiny gold bags, 9 faded blue bags.\n",
    "shiny gold bags contain 1 dark olive bag, 2 vibrant plum bags.\n",
    "dark olive bags contain 3 faded blue bags, 4 dotted black bags.\n",
    "vibrant plum bags contain 5 faded blue bags, 6 dotted black bags.\n",
    "faded blue bags contain no other bags.\n",
    "dotted black bags contain no other bags.\n",
    "\"\"\".strip()\n",
    "tests = test_str.split(\"\\n\")\n",
    "log.debug(test)"
   ]
  },
  {
   "cell_type": "code",
   "execution_count": null,
   "metadata": {},
   "outputs": [],
   "source": [
    "def get_bag_graph(l):\n",
    "  graph = nx.DiGraph()\n",
    "  for line in l:\n",
    "    try:\n",
    "      src, trg = line.split(\" bags contain \")\n",
    "    except ValueError:\n",
    "      log.error(f\"parse error, input=>{line}<\")\n",
    "    bags_contained = trg.replace(\".\", \"\").split(\", \")\n",
    "    if not (len(bags_contained) == 1 and bags_contained[0].startswith(\"no other\")):\n",
    "      graph.add_node(src)\n",
    "      for idx, bag_in in enumerate(bags_contained):\n",
    "        rxm = re.match(r\"^(\\d+)\\s+(.*?)\\s+bag\", bag_in)\n",
    "        res = [int(rxm.group(1)), rxm.group(2)]\n",
    "        #log.debug(\"src:\", src, \"; trg:\", res)\n",
    "        bags_contained[idx] = res\n",
    "        graph.add_node(res[1])\n",
    "        #log.debug(f\"add_edge {src} => {res[0]} {res[1]}\")\n",
    "        graph.add_edge(src, res[1], weight=res[0])\n",
    "    else:\n",
    "      graph.add_edge(src, \"END\", weight=0)\n",
    "    #print(src, bags_contained)\n",
    "  log.info( f\"graph # of nodes: {len(graph.nodes())}\" )\n",
    "  log.info( f\"graph # of edges: {len(graph.edges())}\" )\n",
    "  return graph"
   ]
  },
  {
   "cell_type": "code",
   "execution_count": null,
   "metadata": {},
   "outputs": [],
   "source": [
    "graph = get_bag_graph(tests)\n",
    "for e in graph.edges():\n",
    "  log.debug(f\"  edge: {e} attrs={nx.get_edge_attributes(graph, 'weight')[e]}\")"
   ]
  },
  {
   "cell_type": "code",
   "execution_count": null,
   "metadata": {},
   "outputs": [],
   "source": [
    "def get_paths_to(graph, trg):\n",
    "  paths = []\n",
    "  for src in graph.nodes():\n",
    "    #log.debug(\"src:\", src)\n",
    "    for p in nx.all_simple_paths(graph, src, trg):\n",
    "      paths.append(p)\n",
    "  return paths"
   ]
  },
  {
   "cell_type": "code",
   "execution_count": null,
   "metadata": {},
   "outputs": [],
   "source": [
    "def solve07a(l, trg):\n",
    "  graph = get_bag_graph(l)\n",
    "  sources = aoc.map_list(lambda it: it[0], get_paths_to(graph, trg))\n",
    "  num_sources = len(set(sources))\n",
    "  return num_sources"
   ]
  },
  {
   "cell_type": "code",
   "execution_count": null,
   "metadata": {},
   "outputs": [],
   "source": [
    "trg = 'shiny gold'\n",
    "assert( 4 == solve07a(tests, trg) )"
   ]
  },
  {
   "cell_type": "code",
   "execution_count": null,
   "metadata": {},
   "outputs": [],
   "source": [
    "ins = aoc.read_file_to_str('./in/day07.in').strip().split(\"\\n\")\n",
    "print(\"Day 7 a solution: num-distinct-src-colors\", solve07a(ins, 'shiny gold'))"
   ]
  },
  {
   "cell_type": "code",
   "execution_count": null,
   "metadata": {},
   "outputs": [],
   "source": [
    "print(\"Day 7 b\")"
   ]
  },
  {
   "cell_type": "code",
   "execution_count": null,
   "metadata": {},
   "outputs": [],
   "source": [
    "edge_weights = nx.get_edge_attributes(graph, 'weight')\n",
    "\n",
    "#for p in nx.all_simple_edge_paths(graph, 'shiny gold', \"END\"): # not available\n",
    "seen_subpaths = []\n",
    "for p in nx.all_simple_paths(graph, 'shiny gold', \"END\"):\n",
    "  log.debug(p)\n",
    "  for snode_idx in range(len(p)-1):\n",
    "    tup = tuple([p[snode_idx], p[snode_idx+1]])\n",
    "    subpath = tuple(p[0:snode_idx+2])\n",
    "    log.debug(f\"subpath: {subpath}\")\n",
    "    if not subpath in seen_subpaths:\n",
    "      seen_subpaths.append(subpath)\n",
    "      log.debug(\"    new subpath\")\n",
    "    else:\n",
    "      log.debug(\"    already SEEN subpath\")\n",
    "    log.debug(f\"  path-edge#{snode_idx}: {tup} {edge_weights[tup]}\")\n",
    "  log.debug(seen_subpaths)\n",
    "  "
   ]
  },
  {
   "cell_type": "code",
   "execution_count": null,
   "metadata": {},
   "outputs": [],
   "source": [
    "# see: [python - Getting subgraph of nodes between two nodes? - Stack Overflow](https://stackoverflow.com/questions/32531117/getting-subgraph-of-nodes-between-two-nodes)\n",
    "def subgraph_between(graph, start_node, end_node):\n",
    "  paths_between_generator = nx.all_simple_paths(graph, source=start_node,target=end_node)\n",
    "  nodes_between_set = {node for path in paths_between_generator for node in path}\n",
    "  return( graph.subgraph(nodes_between_set) )"
   ]
  },
  {
   "cell_type": "code",
   "execution_count": null,
   "metadata": {},
   "outputs": [],
   "source": [
    "subgraph = subgraph_between(graph, 'shiny gold', 'END')\n",
    "for p in subgraph.edges:\n",
    "  log.debug(p)\n",
    "log.info(\"sub-paths for shiny gold:\")\n",
    "for p in nx.all_simple_paths(subgraph, 'shiny gold', \"END\"):\n",
    "  log.info(p)"
   ]
  },
  {
   "cell_type": "code",
   "execution_count": null,
   "metadata": {},
   "outputs": [],
   "source": [
    "edge_weights = nx.get_edge_attributes(graph, 'weight')\n",
    "seen_subpaths = []\n",
    "for p in nx.all_simple_paths(graph, 'shiny gold', \"END\"):\n",
    "  log.debug(p)\n",
    "  for start_idx in reversed(range(len(p)-2)):\n",
    "    seen = False\n",
    "    subpath = tuple(p[0:start_idx+2])\n",
    "    if not subpath in seen_subpaths:\n",
    "      seen_subpaths.append(subpath)\n",
    "    else:\n",
    "      seen = True\n",
    "    tup = tuple([p[start_idx], p[start_idx+1]])\n",
    "    w = edge_weights[tup]\n",
    "    log.debug(f\"  subedge={tup}, weight={w}; subpath={subpath}, seen={seen}\")\n"
   ]
  },
  {
   "cell_type": "code",
   "execution_count": null,
   "metadata": {},
   "outputs": [],
   "source": [
    "# Personal solution to day 7 a UNFINISHED.\n",
    "clr = 'shiny gold'\n",
    "clr_edges = filter(lambda it: it[0]==clr, list(graph.edges))\n",
    "for edge in clr_edges:\n",
    "  log.debug(f\"edge={edge}, edge-weight={edge_weights[edge]}\")"
   ]
  },
  {
   "cell_type": "code",
   "execution_count": null,
   "metadata": {},
   "outputs": [],
   "source": [
    "# \"Inspiration\" soltion, copied/stolen from user el-guish's solution in:\n",
    "# [- 2020 Day 07 Solutions - : adventofcode](https://www.reddit.com/r/adventofcode/comments/k8a31f/2020_day_07_solutions/)\n",
    "# Using recursion.\n",
    "\n",
    "rules = open('in/day07.in').readlines()\n",
    "\n",
    "def parse_rule(r):\n",
    "  parent, contents = r[:-2].split(' bags contain ')\n",
    "  childs =  [parse_child_bag(c) for c in contents.split(',') if c != 'no other bags' and c != 'no other bag']\n",
    "  return (parent, childs)\n",
    "\n",
    "def parse_child_bag(child_st):\n",
    "  cparts = child_st.split()\n",
    "  qty = int(cparts[0])\n",
    "  color = ' '.join(cparts[1:-1])\n",
    "  return (color, qty)\n",
    "\n",
    "def required_contents(bag_color):\n",
    "  return sum(q + q * required_contents(color) for color, q in contains[bag_color] )\n",
    "\n",
    "contains = dict(parse_rule(r) for r in test_str.split(\"\\n\"))\n",
    "log.debug(\"test rules (parsed):\", contains)\n",
    "print(\"tests result\", required_contents('shiny gold'))\n",
    "\n",
    "contains = dict(parse_rule(r) for r in rules)\n",
    "print(\"Day 7 b solution\", required_contents('shiny gold'))"
   ]
  },
  {
   "cell_type": "markdown",
   "metadata": {},
   "source": [
    "### Day 8: Handheld Halting"
   ]
  },
  {
   "cell_type": "code",
   "execution_count": null,
   "metadata": {},
   "outputs": [],
   "source": [
    "def read_prog(l):\n",
    "  outlst = aoc.map_list(lambda it: it.split(' '), l)\n",
    "  for instr in outlst:\n",
    "    instr[1] = int(instr[1])\n",
    "  return outlst"
   ]
  },
  {
   "cell_type": "code",
   "execution_count": null,
   "metadata": {},
   "outputs": [],
   "source": [
    "def run_cpu_prog(prog):\n",
    "  cpuct = 0\n",
    "  pptr = 0\n",
    "  prog_len = len(prog)\n",
    "  seen = []\n",
    "  acc = 0\n",
    "  while True:\n",
    "    cpuct += 1\n",
    "    if pptr in seen:\n",
    "      log.info(f\"found inf-loop @cpuct={cpuct} @instr#={pptr} : {instr}\")\n",
    "      break\n",
    "    elif pptr == prog_len:\n",
    "      log.info(f\"found prog-term @cpuct={cpuct} @instr#={pptr} : {instr}\")\n",
    "      break\n",
    "    else:\n",
    "      seen.append(pptr)\n",
    "    instr = prog[pptr]\n",
    "    op, par = instr\n",
    "    log.debug(f\"instr#{cpuct} instr={instr}\")\n",
    "    if cpuct > 10_000:\n",
    "      raise Exception(\"failsafe\")\n",
    "    if op == 'nop':\n",
    "      pptr += 1\n",
    "      #log.debug(f\"  new pptr={pptr}\")\n",
    "    elif op == 'acc':\n",
    "      acc += par\n",
    "      pptr += 1\n",
    "      #log.debug(f\"  new acc={acc}\")\n",
    "    elif op == 'jmp':\n",
    "      pptr += par\n",
    "      #log.debug(f\"  jmp for={par} to={pptr}\")\n",
    "    else:\n",
    "      raise Exception(f\"unknown opcode in {instr}\")\n",
    "  return acc"
   ]
  },
  {
   "cell_type": "code",
   "execution_count": null,
   "metadata": {},
   "outputs": [],
   "source": [
    "tests = \"\"\"\n",
    "nop +0\n",
    "acc +1\n",
    "jmp +4\n",
    "acc +3\n",
    "jmp -3\n",
    "acc -99\n",
    "acc +1\n",
    "jmp -4\n",
    "acc +6\n",
    "\"\"\".strip().split(\"\\n\")\n",
    "log.debug(tests)\n",
    "test_prog = read_prog(tests)\n",
    "log.debug(test_prog)"
   ]
  },
  {
   "cell_type": "code",
   "execution_count": null,
   "metadata": {},
   "outputs": [],
   "source": [
    "run_cpu_prog(test_prog)"
   ]
  },
  {
   "cell_type": "code",
   "execution_count": null,
   "metadata": {},
   "outputs": [],
   "source": [
    "ins = aoc.read_file_to_str('./in/day08.in').strip().split(\"\\n\")\n",
    "prog = read_prog(ins)\n",
    "print(\"Day 8 a solution: acc:\", run_cpu_prog(prog))"
   ]
  },
  {
   "cell_type": "code",
   "execution_count": null,
   "metadata": {},
   "outputs": [],
   "source": [
    "print(\"Day 8 b\")"
   ]
  },
  {
   "cell_type": "code",
   "execution_count": null,
   "metadata": {},
   "outputs": [],
   "source": [
    "def check_cpu_prog(prog):\n",
    "  prog_len = len(prog)\n",
    "  cpuct = 0\n",
    "  pptr = 0\n",
    "  seen = []\n",
    "  acc = 0\n",
    "  while True:\n",
    "    if pptr == prog_len:\n",
    "      log.debug(f\"OK: prog terminates! @cpuct={cpuct} @instr#={pptr} : last-instr={instr}\")\n",
    "      return True\n",
    "    cpuct += 1\n",
    "    instr = prog[pptr]\n",
    "    op, par = instr\n",
    "    #log.debug(f\"instr#{cpuct} {instr}\")\n",
    "    if pptr in seen:\n",
    "      log.debug(f\"Fail: found inf-loop @cpuct={cpuct} @instr#={pptr} : {instr}\")\n",
    "      return False\n",
    "    else:\n",
    "      seen.append(pptr)\n",
    "    if cpuct > 10_000:\n",
    "      raise Exception(\"failsafe\")\n",
    "    if op == 'nop':\n",
    "      pptr += 1\n",
    "      #log.debug(f\"  new pptr={pptr}\")\n",
    "    elif op == 'acc':\n",
    "      acc += par\n",
    "      pptr += 1\n",
    "      #log.debug(f\"  new acc={acc}\")\n",
    "    elif op == 'jmp':\n",
    "      pptr += par\n",
    "      #log.debug(f\"  jmp for={par} to={pptr}\")\n",
    "    else:\n",
    "      raise Exception(f\"unknown opcode in {instr}\")\n",
    "  return acc"
   ]
  },
  {
   "cell_type": "code",
   "execution_count": null,
   "metadata": {},
   "outputs": [],
   "source": [
    "print(\"test result: check-cpu-prog\", check_cpu_prog(test_prog))"
   ]
  },
  {
   "cell_type": "code",
   "execution_count": null,
   "metadata": {},
   "outputs": [],
   "source": [
    "from copy import deepcopy\n",
    "\n",
    "def check_prog_variations(prog):\n",
    "  base_prog = deepcopy(prog)\n",
    "  altinstrs = []\n",
    "  for idx, instr in enumerate(base_prog):\n",
    "    if instr[0] in ['nop', 'jmp']:\n",
    "      altinstrs.append([idx, instr])\n",
    "  log.debug(f\"alternate instructions: {altinstrs}\")\n",
    "  \n",
    "  if check_cpu_prog(base_prog):\n",
    "    #log.debug(\"prog=\", base_prog)\n",
    "    acc = run_cpu_prog(base_prog)\n",
    "    log.debug(f\"prog ok, acc={acc}\")\n",
    "  for elem in altinstrs:\n",
    "    #log.debug(\"elem:\", elem)\n",
    "    idx, v = elem\n",
    "    instr, par = v\n",
    "    prog = deepcopy(base_prog)\n",
    "    if instr == 'nop':\n",
    "      prog[idx][0] = 'jmp'\n",
    "    elif instr == 'jmp':\n",
    "      prog[idx][0] = 'nop'\n",
    "    #log.debug(f\"new-instr @{idx}={prog[idx][0]}\")\n",
    "    #log.debug(\"new-prog=\", prog)\n",
    "    if check_cpu_prog(prog):\n",
    "      acc = run_cpu_prog(prog)\n",
    "      log.info(f\"prog ok, acc={acc}\")\n",
    "      break    \n",
    "  return acc"
   ]
  },
  {
   "cell_type": "code",
   "execution_count": null,
   "metadata": {},
   "outputs": [],
   "source": [
    "result = check_prog_variations(test_prog)\n",
    "print(\"test result: check-prog-variations\", result)"
   ]
  },
  {
   "cell_type": "code",
   "execution_count": null,
   "metadata": {},
   "outputs": [],
   "source": [
    "result = check_prog_variations(read_prog(ins))\n",
    "print(\"Day 8 b result: check-prog-variations\", result)"
   ]
  },
  {
   "cell_type": "markdown",
   "metadata": {},
   "source": [
    "### Day 9: Encoding Error"
   ]
  },
  {
   "cell_type": "code",
   "execution_count": null,
   "metadata": {},
   "outputs": [],
   "source": [
    "tests = \"\"\"\n",
    "35\n",
    "20\n",
    "15\n",
    "25\n",
    "47\n",
    "40\n",
    "62\n",
    "55\n",
    "65\n",
    "95\n",
    "102\n",
    "117\n",
    "150\n",
    "182\n",
    "127\n",
    "219\n",
    "299\n",
    "277\n",
    "309\n",
    "576\n",
    "\"\"\".strip().split(\"\\n\")"
   ]
  },
  {
   "cell_type": "code",
   "execution_count": null,
   "metadata": {},
   "outputs": [],
   "source": [
    "from typing import List\n",
    "\n",
    "def pp_lst(lst):\n",
    "  return \"[\" +  str.join(',', aoc.map_list(str, lst)) + \"]\"\n",
    "\n",
    "def check_xmas_data(xmas_data: int, preamble: List[int]) -> bool:\n",
    "  preamble_len = len(preamble)\n",
    "  #log.debug(\"[check_xmas_data] xmas_data:\", xmas_data, \", preamble_len;:\", len(preamble))\n",
    "  ok = False\n",
    "  for combi in itertools.combinations(preamble, 2): # for entries no combination with itself!\n",
    "    if sum(combi) == xmas_data:\n",
    "      ok = True\n",
    "      #log.info(f\"[check_xmas_data] OK: xmas-data-elem {xmas_data} is sum of prev-elems:{combi}\")\n",
    "      break\n",
    "  return ok\n",
    "\n",
    "def check_xmas_data_seq(xmas_data_seq: List[int], preamble: List[int]) -> bool:\n",
    "  #log.debug(\"[check_xmas_data_seq] xmas_data_seq:\", xmas_data_seq, \", preamble_len;:\", len(preamble))\n",
    "  preamble_len = len(preamble)\n",
    "  all_ok = True\n",
    "  for xmas_data in xmas_data_seq:\n",
    "    #log.info(f\"[check_xmas_data_seq] elem={xmas_data} preamble={pp_lst(preamble)}\")\n",
    "    ok = check_xmas_data(xmas_data, preamble)\n",
    "    preamble.pop(0)\n",
    "    preamble.append(xmas_data)\n",
    "    #log.info(f\"  p appended={xmas_data}, removed={remvd}, preamble={str.join(',', lmap(str, preamble))}\")\n",
    "    all_ok &= ok\n",
    "  return all_ok\n"
   ]
  },
  {
   "cell_type": "code",
   "execution_count": null,
   "metadata": {},
   "outputs": [],
   "source": [
    "preamble0 = list(range(1, 25+1)) # numbers 1..25\n",
    "log.debug(preamble0)"
   ]
  },
  {
   "cell_type": "code",
   "execution_count": null,
   "metadata": {},
   "outputs": [],
   "source": [
    "assert( True == check_xmas_data(26, preamble0) )\n",
    "assert( True == check_xmas_data(49, preamble0) )\n",
    "assert( False == check_xmas_data(100, preamble0) )\n",
    "assert( False == check_xmas_data(50, preamble0) )"
   ]
  },
  {
   "cell_type": "code",
   "execution_count": null,
   "metadata": {},
   "outputs": [],
   "source": [
    "preamble1 = flatten_list( [[20], list(range(1, 20)), list(range(21, 26))] )\n",
    "log.debug(preamble1)"
   ]
  },
  {
   "cell_type": "code",
   "execution_count": null,
   "metadata": {},
   "outputs": [],
   "source": [
    "assert( True == check_xmas_data_seq([45, 26], preamble1) )\n",
    "assert( False == check_xmas_data_seq([45, 65], preamble1) )\n",
    "assert( True == check_xmas_data_seq([45, 64], preamble1) )\n",
    "assert( True == check_xmas_data_seq([45, 66], preamble1) )"
   ]
  },
  {
   "cell_type": "code",
   "execution_count": null,
   "metadata": {},
   "outputs": [],
   "source": [
    "def verify_xmas_data_seq(xmas_data_rawseq: List[int], preamble_len=25) -> bool:\n",
    "  \"\"\"List `xmas_data_rawseq` contains the preamble as head.\"\"\"\n",
    "  preamble = xmas_data_rawseq[0:preamble_len]\n",
    "  xmas_data_seq = xmas_data_rawseq[preamble_len:]\n",
    "  log.debug(f\"[verify_xmas_data_seq] xmas_data_seq:{pp_lst(xmas_data_seq)}, preamble:{pp_lst(preamble)}\")\n",
    "  preamble_len = len(preamble)\n",
    "  oks = []\n",
    "  for xmas_data in xmas_data_seq:\n",
    "    #log.info(f\"[check_xmas_data_seq] elem={xmas_data} preamble={str.join(',', lmap(str, preamble))}\")\n",
    "    ok = check_xmas_data(xmas_data, preamble)\n",
    "    oks.append([xmas_data, ok])\n",
    "    preamble.pop(0)\n",
    "    preamble.append(xmas_data)\n",
    "  return oks\n"
   ]
  },
  {
   "cell_type": "code",
   "execution_count": null,
   "metadata": {},
   "outputs": [],
   "source": [
    "raw_testdata = aoc.map_list(int, tests)\n",
    "res = verify_xmas_data_seq(raw_testdata, preamble_len=5)\n",
    "res = aoc.map_list(lambda it: it[0], aoc.filter_list(lambda it: it[1] == False, res))\n",
    "log.info(f\"test False results: {res}\")\n",
    "assert( [127] == res )"
   ]
  },
  {
   "cell_type": "code",
   "execution_count": null,
   "metadata": {},
   "outputs": [],
   "source": [
    "ins = aoc.map_list(int, aoc.read_file_to_list('./in/day09.in'))\n",
    "log.debug(ins)"
   ]
  },
  {
   "cell_type": "code",
   "execution_count": null,
   "metadata": {},
   "outputs": [],
   "source": [
    "res = verify_xmas_data_seq(ins, preamble_len=25)\n",
    "res = aoc.map_list(lambda it: it[0], aoc.filter_list(lambda it: it[1] == False, res))\n",
    "log.info(f\"found invalid number(s): {res}\")\n",
    "invalid_num = res[0]\n",
    "print(\"Day 8 a solution:\", invalid_num)"
   ]
  },
  {
   "cell_type": "code",
   "execution_count": null,
   "metadata": {},
   "outputs": [],
   "source": [
    "# see: [python - List all contiguous sub-arrays](https://stackoverflow.com/questions/41576911/list-all-contiguous-sub-arrays)\n",
    "def get_all_windows(lst, min_win_len=1):\n",
    "  \"\"\"Generator yielding all sub-windows (contiguous sublists) of given list with min_win_len.\"\"\"\n",
    "  for win_len in range(min_win_len, len(lst)+1):\n",
    "    for idx in range(len(lst)-win_len+1):\n",
    "      yield lst[idx:idx+win_len]"
   ]
  },
  {
   "cell_type": "code",
   "execution_count": null,
   "metadata": {},
   "outputs": [],
   "source": [
    "test_invalidnum = 127\n",
    "raw_testdata2 = raw_testdata.copy()\n",
    "raw_testdata2.remove(test_invalidnum)\n",
    "for subl in get_all_windows(raw_testdata2):\n",
    "  if sum(subl) == test_invalidnum:\n",
    "    log.info(f\"found fulfilling-window: {subl}\")\n",
    "    break"
   ]
  },
  {
   "cell_type": "code",
   "execution_count": null,
   "metadata": {},
   "outputs": [],
   "source": [
    "ins2 = ins.copy()\n",
    "ins2.remove(invalid_num)\n",
    "for subl in get_all_windows(ins2):\n",
    "  if sum(subl) == invalid_num:\n",
    "    log.info(f\"found fulfilling-window: {subl}\")\n",
    "    min_elem = min(subl)\n",
    "    max_elem = max(subl)\n",
    "    solut = min_elem+max_elem\n",
    "    log.info(f\"min, max, sum: {[min_elem, max_elem, solut]}\")\n",
    "    break"
   ]
  },
  {
   "cell_type": "markdown",
   "metadata": {},
   "source": [
    "### Day 10: Adapter Array"
   ]
  },
  {
   "cell_type": "code",
   "execution_count": null,
   "metadata": {},
   "outputs": [],
   "source": [
    "def solve10a(loi):\n",
    "  current = 0\n",
    "  remainders = loi.copy()\n",
    "  chain = [current]\n",
    "  jolts = []\n",
    "  for i in range(len(remainders)):\n",
    "    targets = filterl(lambda it: it >= current and it <= current + 3, remainders)\n",
    "    target = min(targets)\n",
    "    remainders.remove(target)\n",
    "    #log.debug(f\"#{i} from={current} targets={targets}, target={target}, djolt={target-current}, remainders={remainders}\")\n",
    "    chain.append(target)\n",
    "    jolts.append(target-current)\n",
    "    current = target\n",
    "    if len(remainders) == 0:\n",
    "      jolts.append(3) # final device 3 jolts higher than lasta dapter in chain\n",
    "      j1 = jolts.count(1)\n",
    "      j3 = jolts.count(3)\n",
    "      res = j1*j3\n",
    "      log.info(f\"chain {aoc.cl(chain)} terminated ok, jolts={aoc.cl(jolts)}, j1#={j1}, j3#={j3}, res={res}\")\n",
    "      return j1*j3\n",
    "  raise Exception(\"solution not found\")\n"
   ]
  },
  {
   "cell_type": "code",
   "execution_count": null,
   "metadata": {},
   "outputs": [],
   "source": [
    "tests = \"\"\"\n",
    "16\n",
    "10\n",
    "15\n",
    "5\n",
    "1\n",
    "11\n",
    "7\n",
    "19\n",
    "6\n",
    "12\n",
    "4\n",
    "\"\"\".strip().split(\"\\n\")\n",
    "tests1 = aoc.map_list(int, tests)\n",
    "\n",
    "log.debug(f\"test1={tests1}\")\n",
    "res = solve10a(tests1)\n",
    "aoc.assert_msg(\"test 1\", 7*5 == res)\n",
    "log.info(f\"tests1 solution: {res}\")\n",
    "\n",
    "tests = \"\"\"\n",
    "28\n",
    "33\n",
    "18\n",
    "42\n",
    "31\n",
    "14\n",
    "46\n",
    "20\n",
    "48\n",
    "47\n",
    "24\n",
    "23\n",
    "49\n",
    "45\n",
    "19\n",
    "38\n",
    "39\n",
    "11\n",
    "1\n",
    "32\n",
    "25\n",
    "35\n",
    "8\n",
    "17\n",
    "7\n",
    "9\n",
    "4\n",
    "2\n",
    "34\n",
    "10\n",
    "3\n",
    "\"\"\".strip().split(\"\\n\")\n",
    "log.setLevel( logging.INFO )\n",
    "tests2 = mapl(int, tests)\n",
    "res = solve10a(tests2)\n",
    "aoc.assert_msg(\"test 2\", 220 == res)\n",
    "log.info(f\"tests2 solution: {res}\")\n"
   ]
  },
  {
   "cell_type": "code",
   "execution_count": null,
   "metadata": {},
   "outputs": [],
   "source": [
    "ins = mapl(int, aoc.read_file_to_list('./in/day10.in'))\n",
    "res = solve10a(ins)\n",
    "log.info(f\"Day 10 a solution: {res}\")"
   ]
  },
  {
   "cell_type": "code",
   "execution_count": null,
   "metadata": {},
   "outputs": [],
   "source": [
    "import time\n",
    "def find_paths(loi): # loi is a list of ints (input)\n",
    "  start_tm = int(time.time())\n",
    "  end_elem = max(loi)\n",
    "  partials = {0: [[0]]}\n",
    "  found_num = 0\n",
    "  current = 0\n",
    "  iter = 0\n",
    "  lastlevel_partials = 0 # just only for printing (debugging)\n",
    "  last_partials = [[0, 1]]\n",
    "  elems_avail = loi.copy()\n",
    "  for lvl in range(1, len(loi)+1):\n",
    "    last_partials_keys = mapl(lambda it: it[0], last_partials)\n",
    "    min_last_elem = min(last_partials_keys)\n",
    "    elems_avail = filterl(lambda it: it > min_last_elem, elems_avail)\n",
    "    filtered_elems = {}\n",
    "    last_partials_count = {}\n",
    "    \n",
    "    for src in sorted(set(last_partials_keys)):\n",
    "      filtered_elems[src] = filterl(lambda it: it > src and it <= src + 3, elems_avail)\n",
    "      last_partials_count[src] = sum(mapl(lambda it: it[1], filterl(lambda it: it[0]==src, last_partials)))\n",
    "\n",
    "    partials_diff = len(last_partials_keys)-lastlevel_partials\n",
    "    needed_tm = int(time.time()) - start_tm\n",
    "    log.debug(f\"level={lvl} @{needed_tm}s, found={found_num}, paths-diff={partials_diff:,} before-partials-#={len(last_partials):,}, min-last-elem={min_last_elem}, elems_avail#={len(elems_avail)}\")\n",
    "    log.debug(f\"  last-partials-ct={last_partials_count}\")\n",
    "    lastlevel_partials = len(last_partials)\n",
    "    partials = []\n",
    "    for partial in sorted(set(last_partials_keys)): #last_partials:\n",
    "      iter += 1\n",
    "      if iter % 100_000_000 == 0:\n",
    "        log.debug(f\"at iter#={iter:,}, found#={found_num}, level={lvl}\")\n",
    "      #if iter > 10_000_000_000: # FAILSAFE\n",
    "      #  return found\n",
    "      targets = filtered_elems[partial]\n",
    "      for target in targets:\n",
    "        if target == end_elem:\n",
    "          if found_num % 100_000 == 0:\n",
    "            log.debug(f\"at found# {found_num}\")\n",
    "          found_num += last_partials_count[partial]\n",
    "        else:\n",
    "          partials.append( [target, last_partials_count[partial]] )\n",
    "      last_partials = partials\n",
    "  log.info(f\"level={lvl} @{needed_tm}s, found={found_num}, paths-diff={partials_diff:,} before-partials-#={len(last_partials):,}, min-last-elem={min_last_elem}, elems_avail#={len(elems_avail)}\")\n",
    "  return found_num\n"
   ]
  },
  {
   "cell_type": "code",
   "execution_count": null,
   "metadata": {},
   "outputs": [],
   "source": [
    "#log.setLevel( aoc.LOGLEVEL_TRACE )\n",
    "log.debug(f\"effective-log-level={log.getEffectiveLevel()}\")\n",
    "found = find_paths(tests1)\n",
    "log.info(f\"tests1 found {found} from {tests1}\")\n",
    "assert( 8 == found )\n",
    "#found == 8"
   ]
  },
  {
   "cell_type": "code",
   "execution_count": null,
   "metadata": {},
   "outputs": [],
   "source": [
    "found = find_paths(tests2)\n",
    "log.info(f\"test2 found {found} paths\") # 19208\n",
    "assert( 19208 == found )"
   ]
  },
  {
   "cell_type": "code",
   "execution_count": null,
   "metadata": {},
   "outputs": [],
   "source": [
    "found = find_paths(ins)\n",
    "log.info(f\"Day 10 b solution: found {found} paths\")"
   ]
  },
  {
   "cell_type": "markdown",
   "metadata": {},
   "source": [
    "### Day 11: Seating System"
   ]
  },
  {
   "cell_type": "code",
   "execution_count": null,
   "metadata": {},
   "outputs": [],
   "source": [
    "#log.setLevel( aoc.LOGLEVEL_TRACE )\n",
    "log.debug(f\"effective-log-level={log.getEffectiveLevel()}\")"
   ]
  },
  {
   "cell_type": "code",
   "execution_count": null,
   "metadata": {},
   "outputs": [],
   "source": [
    "import copy # for deepcopy\n",
    "import hashlib\n",
    "\n",
    "class CellularWorld:\n",
    "  def __init__(self, world, store_hashes=False):\n",
    "    \"\"\"World object constructor, world has to be given as a list-of-lists of chars.\"\"\"\n",
    "    self.world = world\n",
    "    self.dim = [len(world[0]), len(world)]\n",
    "    self.iter_num = 0\n",
    "    log.info(f'[CellularWorld] new dim={self.dim}')\n",
    "    self.world = world\n",
    "    self.store_hashes = store_hashes\n",
    "    if self.store_hashes:\n",
    "      self.world_hashes = [self.get_hash()]\n",
    "  \n",
    "  def repr(self):\n",
    "    \"\"\"Return representation str (can be used for printing).\"\"\"\n",
    "    return str.join(\"\\n\", map(lambda it: str.join('', it), self.world))\n",
    "  \n",
    "  def set_world(self, world):\n",
    "    self.world = world\n",
    "    self.dim = [len(world[0]), len(world)]\n",
    "\n",
    "  def get_hash(self):\n",
    "    return hashlib.sha1(self.repr().encode()).hexdigest()\n",
    "\n",
    "  def get_neighbors8(self, x, y):\n",
    "    \"\"\"Get cell's surrounding 8 neighbors, omitting boundaries.\"\"\"\n",
    "    log.trace(f\"[CellularWorld]:get_neighbors8({x},{y})\")\n",
    "    dim_x = self.dim[0]\n",
    "    dim_y = self.dim[1]\n",
    "    neighbors = ''\n",
    "    for nx in range(x-1, x+2):\n",
    "      for ny in range(y-1, y+2):\n",
    "        if (nx >= 0 and nx < dim_x) and (ny >= 0 and ny < dim_y) and not (nx == x and ny == y):\n",
    "          #log.info(f\"  neighb={[nx, ny]}\")\n",
    "          neighbors += self.world[ny][nx]\n",
    "    return neighbors\n",
    "  \n",
    "  def iterate(self, steps=1):\n",
    "    for i in range(steps):\n",
    "      world2 = copy.deepcopy(self.world)\n",
    "      for y in range(self.dim[1]):\n",
    "        for x in range(self.dim[0]):\n",
    "          val = self.world[y][x]\n",
    "          neighbors = self.get_neighbors8(x, y)\n",
    "          #log.trace(f\"[{x},{y}]='{val}' nbs='{neighbors}'\")\n",
    "          if val == 'L' and neighbors.count('#') == 0:\n",
    "            world2[y][x] = '#'\n",
    "          elif val == '#' and neighbors.count('#') >= 4:\n",
    "            world2[y][x] = 'L'\n",
    "      self.iter_num += 1\n",
    "      self.set_world(world2)\n",
    "      if self.store_hashes:\n",
    "        self.world_hashes.append(self.get_hash())\n",
    "\n",
    "  def find_cycle(self, max_iter=1_000):\n",
    "    \"\"\"This may only be called at initial state, before any previous iterations.\"\"\"\n",
    "    seen = [world.repr]\n",
    "    for i in range(max_iter):\n",
    "      if i % 1_000 == 0:\n",
    "        log.debug(f\"iter# {i}, still running\")\n",
    "      world.iterate()\n",
    "      world_repr = world.repr()\n",
    "      if world_repr in seen:\n",
    "        start_idx = seen.index(world_repr)\n",
    "        log.info(f\"found cycle @ iter={i+1}, seen-idx={start_idx}\")\n",
    "        return([start_idx, i+1])\n",
    "      else:\n",
    "        seen.append(world_repr)\n",
    "    raise Exception(\"no world iter cycle found\")\n",
    "\n",
    "  def find_stable(self, max_iter=1_000):\n",
    "    last_hash = self.get_hash()\n",
    "    #log.info(f\"cworld initial state: (hash={last_hash}).\")\n",
    "    #log.debug(\"world-repr=\\n{cworld.repr()}\")\n",
    "    for i in range(1, max_iter+1):\n",
    "      self.iterate()\n",
    "      this_hash = self.get_hash()\n",
    "      #log.debug(f\"cworld state after iter#{i}, hash={this_hash}\") #\":\\n{self.repr()}\")\n",
    "      if this_hash == last_hash:\n",
    "        log.info(f\"[CellularWorld:find_stable] BREAK on stable beginning @{i-1}\")\n",
    "        return True\n",
    "      else:\n",
    "        last_hash = this_hash\n",
    "    raise Exception(f\"[CellularWorld:find_stable] NO stable world iter found, after break on {max_iter} steps\")\n"
   ]
  },
  {
   "cell_type": "code",
   "execution_count": null,
   "metadata": {},
   "outputs": [],
   "source": [
    "tests = \"\"\"\n",
    "L.LL.LL.LL\n",
    "LLLLLLL.LL\n",
    "L.L.L..L..\n",
    "LLLL.LL.LL\n",
    "L.LL.LL.LL\n",
    "L.LLLLL.LL\n",
    "..L.L.....\n",
    "LLLLLLLLLL\n",
    "L.LLLLLL.L\n",
    "L.LLLLL.LL\n",
    "\"\"\".strip().split(\"\\n\")\n",
    "\n",
    "tests = mapl(list, tests)\n",
    "cworld = CellularWorld(tests) #, store_hashes=True)\n",
    "cworld.find_stable()\n",
    "seats_occ = cworld.repr().count('#')\n",
    "log.info(f\"test stable occupied-seats={seats_occ}\")\n",
    "  "
   ]
  },
  {
   "cell_type": "code",
   "execution_count": null,
   "metadata": {},
   "outputs": [],
   "source": [
    "ins = aoc.read_file_to_list('./in/day11.in')\n",
    "ins = mapl(list, ins)\n",
    "cworld = CellularWorld(ins)\n",
    "cworld.find_stable()\n",
    "seats_occ = cworld.repr().count('#')\n",
    "log.info(f\"Day 11 a solution: stable occupied-seats={seats_occ} after {cworld.iter_num} iterations\")"
   ]
  },
  {
   "cell_type": "code",
   "execution_count": null,
   "metadata": {},
   "outputs": [],
   "source": [
    "print(\"Day 11 b\")\n",
    "\n",
    "class CellularWorldDirected(CellularWorld):\n",
    "  def iterate(self, steps=1):\n",
    "    for i in range(steps):\n",
    "      world2 = copy.deepcopy(self.world)\n",
    "      for y in range(self.dim[1]):\n",
    "        for x in range(self.dim[0]):\n",
    "          val = self.world[y][x]\n",
    "          neighbors = self.get_seen_occuppied_seats(x, y)\n",
    "          if val == 'L' and neighbors == 0:\n",
    "            world2[y][x] = '#'\n",
    "          elif val == '#' and neighbors >= 5:\n",
    "            world2[y][x] = 'L'\n",
    "      self.iter_num += 1\n",
    "      self.set_world(world2)\n",
    "      if self.store_hashes:\n",
    "        self.world_hashes.append(self.get_hash())\n",
    "\n",
    "  def get_seen_occuppied_seats(self, x, y):\n",
    "    directions = [\n",
    "      [1,0], [-1,0], [0,1], [0,-1],\n",
    "      [1,1], [-1,1], [1,-1], [-1,-1],\n",
    "    ]\n",
    "    seen = 0\n",
    "    for d in directions:\n",
    "      #dseen = 0\n",
    "      dx, dy = d  # directions\n",
    "      nx, ny = [x, y] # startpoint\n",
    "      while(True):  # loop handling one direction vector\n",
    "        nx, ny = [nx+dx, ny+dy]\n",
    "        if nx < 0 or ny < 0 or nx >= self.dim[0] or ny >= self.dim[1]:\n",
    "          break\n",
    "        if \"#\" == self.world[ny][nx]:\n",
    "          #dseen += 1\n",
    "          seen += 1\n",
    "          break  # in each direction, only 1 occupied can bee seen\n",
    "        elif \"L\" == self.world[ny][nx]:\n",
    "          break  # empty seats block view\n",
    "    return seen\n",
    "\n",
    "  def find_cell(self, val):\n",
    "    \"\"\"Find first cell containing given value, return it's `[x, y]` coordinates.\"\"\"\n",
    "    for y in range(self.dim[1]):\n",
    "      for x in range(self.dim[0]):\n",
    "        if self.world[y][x] == val:\n",
    "          return [x, y]\n"
   ]
  },
  {
   "cell_type": "code",
   "execution_count": null,
   "metadata": {},
   "outputs": [],
   "source": [
    "tests = \"\"\"\n",
    ".......#.\n",
    "...#.....\n",
    ".#.......\n",
    ".........\n",
    "..#L....#\n",
    "....#....\n",
    ".........\n",
    "#........\n",
    "...#.....\n",
    "\"\"\".strip().split(\"\\n\")\n",
    "\n",
    "tests = mapl(list, tests)\n",
    "cworld = CellularWorldDirected(tests)\n",
    "log.info(f\"world repr:\\n{cworld.repr()}\")\n",
    "c = cworld.find_cell('L')\n",
    "n = cworld.get_seen_occuppied_seats(c[0], c[1])\n",
    "log.info(f\"  empty spectator cell={c}, neib-#={n}\")\n",
    "assert( 8 == n )"
   ]
  },
  {
   "cell_type": "code",
   "execution_count": null,
   "metadata": {},
   "outputs": [],
   "source": [
    "tests = \"\"\"\n",
    ".............\n",
    ".L.L.#.#.#.#.\n",
    ".............\n",
    "\"\"\".strip().split(\"\\n\")\n",
    "tests = mapl(list, tests)\n",
    "cworld = CellularWorldDirected(tests)\n",
    "c = cworld.find_cell('L')\n",
    "assert( 0 == cworld.get_seen_occuppied_seats(c[0], c[1]) )"
   ]
  },
  {
   "cell_type": "code",
   "execution_count": null,
   "metadata": {},
   "outputs": [],
   "source": [
    "tests = \"\"\"\n",
    ".##.##.\n",
    "#.#.#.#\n",
    "##...##\n",
    "...L...\n",
    "##...##\n",
    "#.#.#.#\n",
    ".##.##.\n",
    "\"\"\".strip().split(\"\\n\")\n",
    "tests = mapl(list, tests)\n",
    "cworld = CellularWorldDirected(tests)\n",
    "c = cworld.find_cell('L')\n",
    "assert( 0 == cworld.get_seen_occuppied_seats(c[0], c[1]) )"
   ]
  },
  {
   "cell_type": "code",
   "execution_count": null,
   "metadata": {},
   "outputs": [],
   "source": [
    "tests = \"\"\"\n",
    "L.LL.LL.LL\n",
    "LLLLLLL.LL\n",
    "L.L.L..L..\n",
    "LLLL.LL.LL\n",
    "L.LL.LL.LL\n",
    "L.LLLLL.LL\n",
    "..L.L.....\n",
    "LLLLLLLLLL\n",
    "L.LLLLLL.L\n",
    "L.LLLLL.LL\n",
    "\"\"\".strip().split(\"\\n\")\n",
    "tests = mapl(list, tests)\n",
    "cworld = CellularWorldDirected(tests)\n",
    "\n",
    "#for i in range(12):\n",
    "#  log.info(f\"before: 0,0 val={cworld.world[0][0]} seen-occupied-#={cworld.get_seen_occuppied_seats(0,0)}\")\n",
    "#  cworld.iterate()\n",
    "#  log.info(f\"after {cworld.iter_num} iters, hash={cworld.get_hash()}: repr:\\n{cworld.repr()}\")\n",
    "cworld.find_stable()\n",
    "log.info(f\"world stable after {cworld.iter_num} iters.\") #\": repr:\\n{cworld.repr()}\")\n",
    "seats_occ = cworld.repr().count('#')\n",
    "assert(26 == seats_occ)\n",
    "log.info(f\"test stable occupied-seats={seats_occ}\")"
   ]
  },
  {
   "cell_type": "code",
   "execution_count": null,
   "metadata": {},
   "outputs": [],
   "source": [
    "cworld = CellularWorldDirected(ins)\n",
    "cworld.find_stable()\n",
    "log.info(f\"world stable after {cworld.iter_num} iters.\") #\": repr:\\n{cworld.repr()}\")\n",
    "seats_occ = cworld.repr().count('#')\n",
    "log.info(f\"Day 11 b solution: stable occupied-seats={seats_occ} after {cworld.iter_num} iters\")"
   ]
  },
  {
   "cell_type": "markdown",
   "metadata": {},
   "source": [
    "### Day 12: Rain Risks"
   ]
  },
  {
   "cell_type": "code",
   "execution_count": null,
   "metadata": {},
   "outputs": [],
   "source": [
    "directions = ['N', 'W', 'S', 'E']\n",
    "direct_vecs = {'N': [0, 1], 'W': [-1, 0], 'S': [0, -1], 'E': [1, 0]}\n",
    "\n",
    "def dist_manhattan(pos, pos_ref):\n",
    "  return abs(pos[0]-pos_ref[0]) + abs(pos[1]-pos_ref[1])\n",
    "\n",
    "def move_ship(los):\n",
    "  ship_direct = 'E'\n",
    "  ship_vec = direct_vecs[ship_direct]\n",
    "  pos_ref = [0, 0]\n",
    "  pos = pos_ref.copy()\n",
    "  for cmd_str in los:\n",
    "    cmd, val = [cmd_str[0], int(cmd_str[1:])]\n",
    "    log.debug(f\"cmd={[cmd, val]}\")\n",
    "    if cmd in directions:\n",
    "      vec = direct_vecs[cmd]\n",
    "      pos[0] += val * vec[0]\n",
    "      pos[1] += val * vec[1]\n",
    "      log.debug(f\"  new pos: {pos}\")\n",
    "    elif cmd == 'F':\n",
    "      pos[0] += val * ship_vec[0]\n",
    "      pos[1] += val * ship_vec[1]\n",
    "      log.debug(f\"  new pos: {pos}; ship_direct={ship_direct}\")\n",
    "    elif cmd == 'R' or cmd == 'L':\n",
    "      turns = val//90\n",
    "      if cmd == 'R':\n",
    "        new_direct_idx = directions.index(ship_direct)-turns\n",
    "      elif cmd == 'L':\n",
    "        new_direct_idx = (directions.index(ship_direct)+turns) % len(directions)\n",
    "      log.debug(f\"cur_direct={ship_direct}:{directions.index(ship_direct)}, new_direct_idx={new_direct_idx}; cmd={cmd_str}; turns={turns}\")\n",
    "      ship_direct = directions[new_direct_idx]\n",
    "      ship_vec = direct_vecs[ship_direct]\n",
    "      log.debug(f\"  new ship_direct: {ship_direct}; from turn:{cmd}\")\n",
    "  return dist_manhattan(pos, pos_ref)\n",
    "      "
   ]
  },
  {
   "cell_type": "code",
   "execution_count": null,
   "metadata": {},
   "outputs": [],
   "source": [
    "tests = \"\"\"\n",
    "F10\n",
    "N3\n",
    "F7\n",
    "R90\n",
    "F11\n",
    "\"\"\".strip().split(\"\\n\")\n",
    "\n",
    "assert( 25 == move_ship(tests) )"
   ]
  },
  {
   "cell_type": "code",
   "execution_count": null,
   "metadata": {},
   "outputs": [],
   "source": [
    "ins = aoc.read_file_to_list('./in/day12.in')\n",
    "res = move_ship(ins)\n",
    "log.info(f\"Day 12 a solution: {res}\")"
   ]
  },
  {
   "cell_type": "code",
   "execution_count": null,
   "metadata": {},
   "outputs": [],
   "source": [
    "print(\"Day 12 b\")\n",
    "\n",
    "def move_ship_by_waypoint(los):\n",
    "  pos_ref = [0, 0]\n",
    "  waypt_pos = [10, 1]\n",
    "  pos = pos_ref.copy()\n",
    "  for cmd_str in los:\n",
    "    cmd, val = [cmd_str[0], int(cmd_str[1:])]\n",
    "    log.debug(f\"cmd={[cmd, val]}\")\n",
    "    if cmd in directions:\n",
    "      vec = direct_vecs[cmd]\n",
    "      dpos = [val * vec[0], val * vec[1]]\n",
    "      waypt_pos[0] += dpos[0]\n",
    "      waypt_pos[1] += dpos[1]\n",
    "      log.debug(f\"  new waypt-rpos: {waypt_pos}\")\n",
    "    elif cmd == 'F':\n",
    "      dpos = [val * waypt_pos[0], val * waypt_pos[1]]\n",
    "      pos[0] += dpos[0]\n",
    "      pos[1] += dpos[1]\n",
    "      log.debug(f\"  new pos: {pos}; waypt-rpos={waypt_pos}\")\n",
    "    elif cmd == 'R' or cmd == 'L': # rotate cartesian coordinates around origin in 90 degrees steps\n",
    "      if cmd_str in ['R90', 'L270']: # rotate RIGHT\n",
    "        cx, cy = waypt_pos\n",
    "        waypt_pos = [cy, -cx]\n",
    "      elif cmd_str in ['L90', 'R270']: # rotate LEFT\n",
    "        cx, cy = waypt_pos\n",
    "        waypt_pos = [-cy, cx]\n",
    "      elif cmd_str in ['L180', 'R180']: # invert 180\n",
    "        cx, cy = waypt_pos\n",
    "        waypt_pos = [-cx, -cy]\n",
    "      elif cmd_str in ['L180', 'R180']:\n",
    "        cx, cy = waypt_pos\n",
    "        waypt_pos = [-cx, -cy]\n",
    "      else:\n",
    "        raise Exception(f\"unknown cmd_str={cmd_str}\")\n",
    "      log.debug(f\"  new waypt-rpos={waypt_pos} from {[cx, cy]}\")\n",
    "  dist = dist_manhattan(pos, pos_ref)\n",
    "  log.info(f\"dist={dist}\")\n",
    "  return dist"
   ]
  },
  {
   "cell_type": "code",
   "execution_count": null,
   "metadata": {},
   "outputs": [],
   "source": [
    "assert( 286 == move_ship_by_waypoint(tests) )"
   ]
  },
  {
   "cell_type": "code",
   "execution_count": null,
   "metadata": {},
   "outputs": [],
   "source": [
    "log.setLevel( logging.INFO )\n",
    "res = move_ship_by_waypoint(ins)\n",
    "log.info(f\"Day 12 b solution: {res}\")"
   ]
  },
  {
   "cell_type": "markdown",
   "metadata": {},
   "source": [
    "### Day 13: Shuttle search"
   ]
  },
  {
   "cell_type": "code",
   "execution_count": null,
   "metadata": {},
   "outputs": [],
   "source": [
    "tests = \"\"\"\n",
    "939\n",
    "7,13,x,x,59,x,31,19\n",
    "\"\"\".strip().split(\"\\n\")"
   ]
  },
  {
   "cell_type": "code",
   "execution_count": null,
   "metadata": {},
   "outputs": [],
   "source": [
    "def find_shuttle(los):\n",
    "  min_wait_tm, min_bus = [99_999_999, -1]\n",
    "\n",
    "  start_tm = int(los[0])\n",
    "  shuttles = los[1].split(',')\n",
    "  log.info(f\"[find_shuttle] {start_tm} {shuttles}\")\n",
    "  for bus in shuttles:\n",
    "    if bus == 'x':\n",
    "      continue\n",
    "    bus = int(bus)\n",
    "    remainder = start_tm % bus\n",
    "    if remainder == 0:\n",
    "      wait_tm = 0\n",
    "    else:\n",
    "      wait_tm = bus - remainder\n",
    "    if wait_tm < min_wait_tm:\n",
    "      min_wait_tm, min_bus = [wait_tm, bus]\n",
    "      log.info(f\"new_min: wait_tm={wait_tm}, 4bus={bus}, rmd={remainder}, res={wait_tm * bus}\")\n",
    "    if wait_tm == 0:\n",
    "      break\n",
    "    log.debug(f\"wait_tm={wait_tm}, 4bus={bus}, rmd={remainder}, res={wait_tm * bus}\")\n",
    "  res = min_wait_tm * min_bus\n",
    "  log.info(f\"MIN: wait_tm={min_wait_tm}, 4bus={min_bus}, res={res}\")\n",
    "  return res\n"
   ]
  },
  {
   "cell_type": "code",
   "execution_count": null,
   "metadata": {},
   "outputs": [],
   "source": [
    "find_shuttle(tests)"
   ]
  },
  {
   "cell_type": "code",
   "execution_count": null,
   "metadata": {},
   "outputs": [],
   "source": [
    "ins = aoc.read_file_to_list('./in/day13.in')\n",
    "find_shuttle(ins)"
   ]
  },
  {
   "cell_type": "code",
   "execution_count": null,
   "metadata": {},
   "outputs": [],
   "source": [
    "print(\"Day 13 b\")\n",
    "\n",
    "def find_shuttle_offsetted(s):\n",
    "  \"\"\"Semi-optimized brute-force algorithm implementation.\"\"\"\n",
    "  start_tm = int(time.time())\n",
    "  log.info(f\"[find_shuttle_offsetted] {s}\")\n",
    "  offsets = {}\n",
    "  values = {}\n",
    "  for idx, val in enumerate(s.split(',')):\n",
    "    if val == 'x':\n",
    "      continue\n",
    "    val = int(val)\n",
    "    values[idx] =val  # by offset\n",
    "    offsets[val] = idx  # by value\n",
    "  srtvalues = list(reversed(sorted(list(values.values()))))\n",
    "  max_iterator = max(srtvalues)\n",
    "  max_iterator_offset = offsets[max_iterator]\n",
    "  log.info(f\"max_it={max_iterator}->ofst={max_iterator_offset}; srtvalues={srtvalues}, offsets={offsets}, values={values}\")\n",
    "  \n",
    "  #values_len = len(srtvalues)\n",
    "  iterator2 = srtvalues[1]\n",
    "  iterator2_offset = offsets[iterator2]\n",
    "  iterator3 = srtvalues[2]\n",
    "  iterator3_offset = offsets[iterator3]\n",
    "  print_mod_interval = 100_000_000_000\n",
    "  next_print_mod = print_mod_interval\n",
    "  #for idx in range(1, 9_000_000_000_000_000//max_iterator): # 10_000, 999_999_999 ):\n",
    "  for t in map(lambda it: it * max_iterator -max_iterator_offset, range(1, 9_000_000_000_000_000//max_iterator)):\n",
    "    #if idx > 10:\n",
    "    #  raise Exception(\"HACK failsafe\")\n",
    "    #t = idx * max_iterator - max_iterator_offset\n",
    "    if (t + iterator2_offset) % iterator2 != 0 \\\n",
    "       or (t + iterator3_offset) % iterator3 != 0:\n",
    "      continue # \"FAST EXIT\" this loop-item\n",
    "    if t >= next_print_mod: #idx >= next_print_mod:\n",
    "      log.info(f\"  calculating @{int(time.time())-start_tm:,}s ...: t#={t:,}\")\n",
    "      next_print_mod += print_mod_interval      \n",
    "    loop_ok = True\n",
    "    for val in srtvalues[3:]:\n",
    "      if (t + offsets[val]) % val != 0:\n",
    "        #log.info(f\"calc t={t}, val={val}, ofst={offsets[val]}, res={(t - offsets[val]) % val}\")\n",
    "        loop_ok = False\n",
    "        break\n",
    "      #log.info(f\"part-ok for t#{idx}={t} val={val}, ofst={offsets[val]}\")\n",
    "    if loop_ok:\n",
    "      log.info(f\"loop-OK for t#={t:,} @{int(time.time())-start_tm:,}s\")\n",
    "      return t\n",
    "  raise Exception(f\"No matching shuttle found after step t={t}\")\n"
   ]
  },
  {
   "cell_type": "code",
   "execution_count": null,
   "metadata": {},
   "outputs": [],
   "source": [
    "test = \"7,13,x,x,59,x,31,19\"\n",
    "assert( 1068781 == find_shuttle_offsetted(test) )"
   ]
  },
  {
   "cell_type": "code",
   "execution_count": null,
   "metadata": {},
   "outputs": [],
   "source": [
    "test = \"17,x,13,19\"\n",
    "assert( 3417 == find_shuttle_offsetted(test) )"
   ]
  },
  {
   "cell_type": "code",
   "execution_count": null,
   "metadata": {},
   "outputs": [],
   "source": [
    "test = \"67,7,59,61\"\n",
    "assert( 754018 == find_shuttle_offsetted(test) )"
   ]
  },
  {
   "cell_type": "code",
   "execution_count": null,
   "metadata": {},
   "outputs": [],
   "source": [
    "test = \"67,x,7,59,61\"\n",
    "assert( 779210 == find_shuttle_offsetted(test) )"
   ]
  },
  {
   "cell_type": "code",
   "execution_count": null,
   "metadata": {},
   "outputs": [],
   "source": [
    "test = \"67,7,x,59,61\"\n",
    "assert( 1261476 == find_shuttle_offsetted(test) )"
   ]
  },
  {
   "cell_type": "code",
   "execution_count": null,
   "metadata": {},
   "outputs": [],
   "source": [
    "test = \"1789,37,47,1889\"\n",
    "assert( 1202161486 == find_shuttle_offsetted(test) )"
   ]
  },
  {
   "cell_type": "code",
   "execution_count": null,
   "metadata": {},
   "outputs": [],
   "source": [
    "print(f\"known: solution larger than {100000000000000:,} <= 100000000000000\")"
   ]
  },
  {
   "cell_type": "code",
   "execution_count": null,
   "metadata": {},
   "outputs": [],
   "source": [
    "in13b = ins[1]\n",
    "#EXEC_RESOURCE_HOGS = True\n",
    "if EXEC_RESOURCE_HOGS:\n",
    "  res = find_shuttle_offsetted(in13b)\n",
    "  print(f\"Day 13 b solution={res}\")\n",
    "else:\n",
    "  print(\"Omitting day 13 b resource expensive solution\")"
   ]
  },
  {
   "cell_type": "code",
   "execution_count": null,
   "metadata": {},
   "outputs": [],
   "source": [
    "# Inspiration base: [- 2020 Day 13 Solutions - : adventofcode](https://www.reddit.com/r/adventofcode/comments/kc4njx/2020_day_13_solutions/)\n",
    "# One solution: [adventofcode2020/main.py at master · r0f1/adventofcode2020](https://github.com/r0f1/adventofcode2020/blob/master/day13/main.py)\n",
    "# Math Explanation: [Chinese Remainder Theorem | Brilliant Math & Science Wiki](https://brilliant.org/wiki/chinese-remainder-theorem/)\n",
    "# a wonderful walk-through: [aoc/README.md at master · mebeim/aoc](https://github.com/mebeim/aoc/blob/master/2020/README.md#day-13---shuttle-search)\n",
    "\n",
    "import numpy as np\n",
    "#from math import prod # python 3.8 ?\n",
    "\n",
    "def egcd(a, b):\n",
    "  if a == 0:\n",
    "    return (b, 0, 1)\n",
    "  else:\n",
    "    g, y, x = egcd(b % a, a)\n",
    "    return (g, x - (b // a) * y, y)\n",
    "\n",
    "#def egcd(a, b):\n",
    "#  if a == 0:\n",
    "#    return (b, 0, 1)\n",
    "#  else:\n",
    "#    g, y, x = egcd(b % a, a)\n",
    "#    return (g, x - (b // a) * y, y)\n",
    "\n",
    "#def modinv(a, m):\n",
    "#  g, x, y = egcd(a, m)\n",
    "#  if g != 1:\n",
    "#    raise Exception('modular inverse does not exist')\n",
    "#  else:\n",
    "#    return x % m\n",
    "\n",
    "def modinv(x, m):\n",
    "  g, inv, y = egcd(x, m)\n",
    "  assert g == 1, 'modular inverse does not exist'\n",
    "  return inv % m\n",
    "\n",
    "def pow38(g,w,p):\n",
    "  #log.info(f\"pow38({g},{w},{p}) called\")\n",
    "  if w >= 0:\n",
    "    return pow(g, w ,p)\n",
    "  else:\n",
    "    return modinv(g, p) #, -w, p\n",
    "\n",
    "\n",
    "with open('./in/day13.in') as f:\n",
    "  lines = [x.strip() for x in f]\n",
    "\n",
    "arrival = int(lines[0])\n",
    "buses = [(i, int(e)) for i, e in enumerate(lines[1].split(\",\")) if e.isdigit()]\n",
    "\n",
    "times = [t for _, t in buses]\n",
    "b = [e - (arrival % e) for e in times]\n",
    "res = np.min(b) * times[np.argmin(b)]\n",
    "print(\"Day 13 a solution:\", res)\n",
    "\n",
    "# Python-3.7 ERROR: pow() 2nd argument cannot be negative when 3rd argument specified\n",
    "def crt(ns, bs):\n",
    "  \"\"\"Solve: Chinese Remainder \"problem\" using Chinese Remainder Theorem.\"\"\"\n",
    "  # Chinese Remainder Theorem\n",
    "  # https://brilliant.org/wiki/chinese-remainder-theorem/\n",
    "  #N = prod(ns)\n",
    "  N = np.prod(ns).item()\n",
    "  #x = sum(b * (N // n) * pow(N // n, -1, n) for b, n in zip(bs, ns))\n",
    "  x = sum(b * (N // n) * pow38(N // n, -1, n) for b, n in zip(bs, ns))\n",
    "  return x % N\n",
    "\n",
    "offsets = [time-idx for idx, time in buses]\n",
    "res = crt(times, offsets)\n",
    "print(f\"Day 13 b solution: {res:,} <-- {res}\")"
   ]
  },
  {
   "cell_type": "code",
   "execution_count": null,
   "metadata": {},
   "outputs": [],
   "source": []
  }
 ],
 "metadata": {
  "kernelspec": {
   "display_name": "Python 3",
   "language": "python",
   "name": "python3"
  },
  "language_info": {
   "codemirror_mode": {
    "name": "ipython",
    "version": 3
   },
   "file_extension": ".py",
   "mimetype": "text/x-python",
   "name": "python",
   "nbconvert_exporter": "python",
   "pygments_lexer": "ipython3",
   "version": "3.7.9"
  }
 },
 "nbformat": 4,
 "nbformat_minor": 4
}
